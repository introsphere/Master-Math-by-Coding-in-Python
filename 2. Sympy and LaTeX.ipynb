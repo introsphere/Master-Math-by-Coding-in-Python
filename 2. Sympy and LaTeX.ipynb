{
 "cells": [
  {
   "cell_type": "code",
   "execution_count": 2,
   "id": "b10ae8fb-2021-4e20-b67c-bf5c44a4d248",
   "metadata": {
    "execution": {
     "iopub.execute_input": "2024-11-11T12:45:27.076616Z",
     "iopub.status.busy": "2024-11-11T12:45:27.076454Z",
     "iopub.status.idle": "2024-11-11T12:45:27.078817Z",
     "shell.execute_reply": "2024-11-11T12:45:27.078523Z",
     "shell.execute_reply.started": "2024-11-11T12:45:27.076607Z"
    },
    "tags": []
   },
   "outputs": [],
   "source": [
    "import numpy as np\n",
    "import sympy as sp\n",
    "\n",
    "from IPython.display import display, Math"
   ]
  },
  {
   "cell_type": "markdown",
   "id": "992b054a-544b-4632-a870-88493bc62f73",
   "metadata": {},
   "source": [
    "### Sympy and LaTeX"
   ]
  },
  {
   "cell_type": "markdown",
   "id": "c4e24792-c7bf-4804-af16-f94c6977db77",
   "metadata": {
    "jp-MarkdownHeadingCollapsed": true,
    "tags": []
   },
   "source": [
    "#### 1. Intro to Sympy"
   ]
  },
  {
   "cell_type": "code",
   "execution_count": 3,
   "id": "bb05b7f9-21d0-42c4-9939-aad687a5dfab",
   "metadata": {
    "execution": {
     "iopub.execute_input": "2024-11-11T12:45:27.079555Z",
     "iopub.status.busy": "2024-11-11T12:45:27.079432Z",
     "iopub.status.idle": "2024-11-11T12:45:27.263562Z",
     "shell.execute_reply": "2024-11-11T12:45:27.263343Z",
     "shell.execute_reply.started": "2024-11-11T12:45:27.079543Z"
    },
    "tags": []
   },
   "outputs": [
    {
     "data": {
      "image/png": "[encoded data removed]",
      "text/latex": [
       "$\\displaystyle x$"
      ],
      "text/plain": [
       "x"
      ]
     },
     "execution_count": 3,
     "metadata": {},
     "output_type": "execute_result"
    }
   ],
   "source": [
    "x, y = sp.symbols('x,y')\n",
    "x"
   ]
  },
  {
   "cell_type": "code",
   "execution_count": 4,
   "id": "806aeb53-a2ef-40dc-8b2b-59e00ecedee5",
   "metadata": {
    "execution": {
     "iopub.execute_input": "2024-11-11T12:45:27.263973Z",
     "iopub.status.busy": "2024-11-11T12:45:27.263868Z",
     "iopub.status.idle": "2024-11-11T12:45:27.281835Z",
     "shell.execute_reply": "2024-11-11T12:45:27.281640Z",
     "shell.execute_reply.started": "2024-11-11T12:45:27.263964Z"
    },
    "tags": []
   },
   "outputs": [
    {
     "data": {
      "image/png": "[encoded data removed]",
      "text/latex": [
       "$\\displaystyle y + 4$"
      ],
      "text/plain": [
       "y + 4"
      ]
     },
     "execution_count": 4,
     "metadata": {},
     "output_type": "execute_result"
    }
   ],
   "source": [
    "y + 4"
   ]
  },
  {
   "cell_type": "code",
   "execution_count": 5,
   "id": "18721eab-38fe-4b5d-a531-e96556037c0e",
   "metadata": {
    "execution": {
     "iopub.execute_input": "2024-11-11T12:45:27.282449Z",
     "iopub.status.busy": "2024-11-11T12:45:27.282360Z",
     "iopub.status.idle": "2024-11-11T12:45:27.337040Z",
     "shell.execute_reply": "2024-11-11T12:45:27.336837Z",
     "shell.execute_reply.started": "2024-11-11T12:45:27.282440Z"
    },
    "tags": []
   },
   "outputs": [
    {
     "data": {
      "image/png": "[encoded data removed]",
      "text/latex": [
       "$\\displaystyle x^{y}$"
      ],
      "text/plain": [
       " y\n",
       "x "
      ]
     },
     "metadata": {},
     "output_type": "display_data"
    },
    {
     "data": {
      "image/png": "[encoded data removed]",
      "text/latex": [
       "$\\displaystyle \\frac{x}{y}$"
      ],
      "text/plain": [
       "x\n",
       "─\n",
       "y"
      ]
     },
     "metadata": {},
     "output_type": "display_data"
    }
   ],
   "source": [
    "display(x**y)\n",
    "display(x/y)"
   ]
  },
  {
   "cell_type": "code",
   "execution_count": 6,
   "id": "c5b55b3a-aa0c-4789-a4b7-31abee046811",
   "metadata": {
    "execution": {
     "iopub.execute_input": "2024-11-11T12:45:27.337426Z",
     "iopub.status.busy": "2024-11-11T12:45:27.337347Z",
     "iopub.status.idle": "2024-11-11T12:45:27.349597Z",
     "shell.execute_reply": "2024-11-11T12:45:27.349296Z",
     "shell.execute_reply.started": "2024-11-11T12:45:27.337418Z"
    },
    "tags": []
   },
   "outputs": [
    {
     "data": {
      "image/png": "[encoded data removed]",
      "text/latex": [
       "$\\displaystyle 1.4142135623731$"
      ],
      "text/plain": [
       "1.4142135623730951"
      ]
     },
     "metadata": {},
     "output_type": "display_data"
    },
    {
     "data": {
      "image/png": "[encoded data removed]",
      "text/latex": [
       "$\\displaystyle \\sqrt{2}$"
      ],
      "text/plain": [
       "√2"
      ]
     },
     "metadata": {},
     "output_type": "display_data"
    }
   ],
   "source": [
    "display(np.sqrt(2))\n",
    "display(sp.sqrt(2))"
   ]
  },
  {
   "cell_type": "markdown",
   "id": "8a579b69-1a36-4465-a20f-b58774d01955",
   "metadata": {},
   "source": [
    "##### Exercise:"
   ]
  },
  {
   "cell_type": "code",
   "execution_count": 7,
   "id": "d9e75878-74f2-4736-8500-a6ba65ffefb1",
   "metadata": {
    "execution": {
     "iopub.execute_input": "2024-11-11T12:45:27.350006Z",
     "iopub.status.busy": "2024-11-11T12:45:27.349928Z",
     "iopub.status.idle": "2024-11-11T12:45:27.356139Z",
     "shell.execute_reply": "2024-11-11T12:45:27.355846Z",
     "shell.execute_reply.started": "2024-11-11T12:45:27.349998Z"
    },
    "tags": []
   },
   "outputs": [
    {
     "data": {
      "text/latex": [
       "$\\displaystyle y \\times x^2$"
      ],
      "text/plain": [
       "<IPython.core.display.Math object>"
      ]
     },
     "metadata": {},
     "output_type": "display_data"
    },
    {
     "data": {
      "image/png": "[encoded data removed]",
      "text/latex": [
       "$\\displaystyle x^{2} y$"
      ],
      "text/plain": [
       " 2  \n",
       "x ⋅y"
      ]
     },
     "metadata": {},
     "output_type": "display_data"
    }
   ],
   "source": [
    "display(Math(('y \\\\times x^2')))\n",
    "display(y*x**2)"
   ]
  },
  {
   "cell_type": "code",
   "execution_count": 8,
   "id": "0eca8270-ea51-47d7-88e3-81f934c14c7e",
   "metadata": {
    "execution": {
     "iopub.execute_input": "2024-11-11T12:45:27.356529Z",
     "iopub.status.busy": "2024-11-11T12:45:27.356454Z",
     "iopub.status.idle": "2024-11-11T12:45:27.361666Z",
     "shell.execute_reply": "2024-11-11T12:45:27.361401Z",
     "shell.execute_reply.started": "2024-11-11T12:45:27.356521Z"
    },
    "tags": []
   },
   "outputs": [
    {
     "data": {
      "text/latex": [
       "$\\displaystyle \\sqrt{4}x$"
      ],
      "text/plain": [
       "<IPython.core.display.Math object>"
      ]
     },
     "metadata": {},
     "output_type": "display_data"
    },
    {
     "data": {
      "image/png": "[encoded data removed]",
      "text/latex": [
       "$\\displaystyle 2 x$"
      ],
      "text/plain": [
       "2⋅x"
      ]
     },
     "metadata": {},
     "output_type": "display_data"
    }
   ],
   "source": [
    "display(Math('\\\\sqrt{4}x'))\n",
    "display(sp.sqrt(4)*x)"
   ]
  },
  {
   "cell_type": "code",
   "execution_count": 9,
   "id": "992eb398-fb71-499a-8b35-d942d9f682a3",
   "metadata": {
    "execution": {
     "iopub.execute_input": "2024-11-11T12:45:27.362047Z",
     "iopub.status.busy": "2024-11-11T12:45:27.361977Z",
     "iopub.status.idle": "2024-11-11T12:45:27.367460Z",
     "shell.execute_reply": "2024-11-11T12:45:27.367191Z",
     "shell.execute_reply.started": "2024-11-11T12:45:27.362040Z"
    },
    "tags": []
   },
   "outputs": [
    {
     "data": {
      "text/latex": [
       "$\\displaystyle \\sqrt{x} \\sqrt{x}$"
      ],
      "text/plain": [
       "<IPython.core.display.Math object>"
      ]
     },
     "metadata": {},
     "output_type": "display_data"
    },
    {
     "data": {
      "image/png": "[encoded data removed]",
      "text/latex": [
       "$\\displaystyle x$"
      ],
      "text/plain": [
       "x"
      ]
     },
     "metadata": {},
     "output_type": "display_data"
    }
   ],
   "source": [
    "display(Math('\\\\sqrt{x} \\\\sqrt{x}'))\n",
    "display(sp.sqrt(x) * sp.sqrt(x))"
   ]
  },
  {
   "cell_type": "markdown",
   "id": "1bbcb4c9-beb8-4967-b434-281e226550de",
   "metadata": {
    "jp-MarkdownHeadingCollapsed": true,
    "tags": []
   },
   "source": [
    "#### 2. Intro to LaTeX"
   ]
  },
  {
   "cell_type": "code",
   "execution_count": 10,
   "id": "031fad17-d3c6-4465-922a-78b2c78eaee9",
   "metadata": {
    "execution": {
     "iopub.execute_input": "2024-11-11T12:45:27.367822Z",
     "iopub.status.busy": "2024-11-11T12:45:27.367748Z",
     "iopub.status.idle": "2024-11-11T12:45:27.369578Z",
     "shell.execute_reply": "2024-11-11T12:45:27.369408Z",
     "shell.execute_reply.started": "2024-11-11T12:45:27.367815Z"
    },
    "tags": []
   },
   "outputs": [
    {
     "data": {
      "text/latex": [
       "$\\displaystyle 4 + 3 = 7$"
      ],
      "text/plain": [
       "<IPython.core.display.Math object>"
      ]
     },
     "execution_count": 10,
     "metadata": {},
     "output_type": "execute_result"
    }
   ],
   "source": [
    "Math('4 + 3 = 7')"
   ]
  },
  {
   "cell_type": "code",
   "execution_count": 11,
   "id": "0f1a745a-2422-484b-a786-f2c14377ec44",
   "metadata": {
    "execution": {
     "iopub.execute_input": "2024-11-11T12:45:27.370464Z",
     "iopub.status.busy": "2024-11-11T12:45:27.370386Z",
     "iopub.status.idle": "2024-11-11T12:45:27.373578Z",
     "shell.execute_reply": "2024-11-11T12:45:27.373328Z",
     "shell.execute_reply.started": "2024-11-11T12:45:27.370457Z"
    },
    "tags": []
   },
   "outputs": [
    {
     "data": {
      "text/latex": [
       "$\\displaystyle \\sigma = \\mu \\times \\sqrt{5x+3z-17u}$"
      ],
      "text/plain": [
       "<IPython.core.display.Math object>"
      ]
     },
     "execution_count": 11,
     "metadata": {},
     "output_type": "execute_result"
    }
   ],
   "source": [
    "Math('\\\\sigma = \\\\mu \\\\times \\\\sqrt{5x+3z-17u}')"
   ]
  },
  {
   "cell_type": "code",
   "execution_count": 12,
   "id": "b8fb5777-b040-4392-8418-4f33a2373a11",
   "metadata": {
    "execution": {
     "iopub.execute_input": "2024-11-11T12:45:27.373916Z",
     "iopub.status.busy": "2024-11-11T12:45:27.373850Z",
     "iopub.status.idle": "2024-11-11T12:45:27.376288Z",
     "shell.execute_reply": "2024-11-11T12:45:27.376081Z",
     "shell.execute_reply.started": "2024-11-11T12:45:27.373909Z"
    },
    "tags": []
   },
   "outputs": [
    {
     "data": {
      "text/latex": [
       "$\\displaystyle x_{mm} + y^{n+2k-15}$"
      ],
      "text/plain": [
       "<IPython.core.display.Math object>"
      ]
     },
     "execution_count": 12,
     "metadata": {},
     "output_type": "execute_result"
    }
   ],
   "source": [
    "Math('x_{mm} + y^{n+2k-15}')"
   ]
  },
  {
   "cell_type": "code",
   "execution_count": 13,
   "id": "b52f4916-43b3-43a5-96af-d28b653c7d4b",
   "metadata": {
    "execution": {
     "iopub.execute_input": "2024-11-11T12:45:27.376614Z",
     "iopub.status.busy": "2024-11-11T12:45:27.376548Z",
     "iopub.status.idle": "2024-11-11T12:45:27.381221Z",
     "shell.execute_reply": "2024-11-11T12:45:27.381039Z",
     "shell.execute_reply.started": "2024-11-11T12:45:27.376607Z"
    }
   },
   "outputs": [
    {
     "data": {
      "text/latex": [
       "$\\displaystyle \\frac{1+x}{2v-s^{t+4r}}$"
      ],
      "text/plain": [
       "<IPython.core.display.Math object>"
      ]
     },
     "execution_count": 13,
     "metadata": {},
     "output_type": "execute_result"
    }
   ],
   "source": [
    "Math('\\\\frac{1+x}{2v-s^{t+4r}}')"
   ]
  },
  {
   "cell_type": "code",
   "execution_count": 14,
   "id": "e13c4010-82cd-4fff-a85c-50d0a3f0f7af",
   "metadata": {
    "execution": {
     "iopub.execute_input": "2024-11-11T12:45:27.381547Z",
     "iopub.status.busy": "2024-11-11T12:45:27.381479Z",
     "iopub.status.idle": "2024-11-11T12:45:27.386303Z",
     "shell.execute_reply": "2024-11-11T12:45:27.386133Z",
     "shell.execute_reply.started": "2024-11-11T12:45:27.381541Z"
    }
   },
   "outputs": [
    {
     "data": {
      "text/latex": [
       "$\\displaystyle \\text{The answer to this equation is }\\frac{1+x}{2v-s^{t+4r}}$"
      ],
      "text/plain": [
       "<IPython.core.display.Math object>"
      ]
     },
     "execution_count": 14,
     "metadata": {},
     "output_type": "execute_result"
    }
   ],
   "source": [
    "Math('\\\\text{The answer to this equation is }\\\\frac{1+x}{2v-s^{t+4r}}')"
   ]
  },
  {
   "cell_type": "markdown",
   "id": "3ce2add3-4618-44cd-ab37-3afb82c5d518",
   "metadata": {},
   "source": [
    "##### Exercise:"
   ]
  },
  {
   "cell_type": "code",
   "execution_count": 15,
   "id": "13e511e2-fd1a-42ff-acf6-531a31bda7ec",
   "metadata": {
    "execution": {
     "iopub.execute_input": "2024-11-11T12:45:27.386709Z",
     "iopub.status.busy": "2024-11-11T12:45:27.386552Z",
     "iopub.status.idle": "2024-11-11T12:45:27.389679Z",
     "shell.execute_reply": "2024-11-11T12:45:27.389519Z",
     "shell.execute_reply.started": "2024-11-11T12:45:27.386701Z"
    }
   },
   "outputs": [
    {
     "data": {
      "text/latex": [
       "$\\displaystyle 4x + 5y - 8z = 17$"
      ],
      "text/plain": [
       "<IPython.core.display.Math object>"
      ]
     },
     "execution_count": 15,
     "metadata": {},
     "output_type": "execute_result"
    }
   ],
   "source": [
    "Math('4x + 5y - 8z = 17')"
   ]
  },
  {
   "cell_type": "code",
   "execution_count": 16,
   "id": "34e21f45-7074-4aff-9296-51d06d129d2f",
   "metadata": {
    "execution": {
     "iopub.execute_input": "2024-11-11T12:45:27.389989Z",
     "iopub.status.busy": "2024-11-11T12:45:27.389921Z",
     "iopub.status.idle": "2024-11-11T12:45:27.392926Z",
     "shell.execute_reply": "2024-11-11T12:45:27.392765Z",
     "shell.execute_reply.started": "2024-11-11T12:45:27.389982Z"
    }
   },
   "outputs": [
    {
     "data": {
      "text/latex": [
       "$\\displaystyle \\sin(2\\pi ft + \\theta)$"
      ],
      "text/plain": [
       "<IPython.core.display.Math object>"
      ]
     },
     "execution_count": 16,
     "metadata": {},
     "output_type": "execute_result"
    }
   ],
   "source": [
    "Math('\\\\sin(2\\\\pi ft + \\\\theta)')"
   ]
  },
  {
   "cell_type": "code",
   "execution_count": 17,
   "id": "a6ee104a-0bbd-43e2-bcc9-2719892ec0fc",
   "metadata": {
    "execution": {
     "iopub.execute_input": "2024-11-11T12:45:27.393250Z",
     "iopub.status.busy": "2024-11-11T12:45:27.393177Z",
     "iopub.status.idle": "2024-11-11T12:45:27.396248Z",
     "shell.execute_reply": "2024-11-11T12:45:27.396081Z",
     "shell.execute_reply.started": "2024-11-11T12:45:27.393243Z"
    }
   },
   "outputs": [
    {
     "data": {
      "text/latex": [
       "$\\displaystyle e = mc^2$"
      ],
      "text/plain": [
       "<IPython.core.display.Math object>"
      ]
     },
     "execution_count": 17,
     "metadata": {},
     "output_type": "execute_result"
    }
   ],
   "source": [
    "Math('e = mc^2')"
   ]
  },
  {
   "cell_type": "code",
   "execution_count": 18,
   "id": "6e10e899-cf28-4576-a7ad-ab5ff8943d50",
   "metadata": {
    "execution": {
     "iopub.execute_input": "2024-11-11T12:45:27.396622Z",
     "iopub.status.busy": "2024-11-11T12:45:27.396504Z",
     "iopub.status.idle": "2024-11-11T12:45:27.400492Z",
     "shell.execute_reply": "2024-11-11T12:45:27.400322Z",
     "shell.execute_reply.started": "2024-11-11T12:45:27.396615Z"
    }
   },
   "outputs": [
    {
     "data": {
      "text/latex": [
       "$\\displaystyle \\frac{4 + 5x^2}{(1 + x)(1 - x)}$"
      ],
      "text/plain": [
       "<IPython.core.display.Math object>"
      ]
     },
     "execution_count": 18,
     "metadata": {},
     "output_type": "execute_result"
    }
   ],
   "source": [
    "Math('\\\\frac{4 + 5x^2}{(1 + x)(1 - x)}')"
   ]
  },
  {
   "cell_type": "markdown",
   "id": "bfb71751-49a6-4f9f-a7b6-535719a92b95",
   "metadata": {
    "jp-MarkdownHeadingCollapsed": true
   },
   "source": [
    "#### 3. Intro to Sympy pt.2"
   ]
  },
  {
   "cell_type": "code",
   "execution_count": 19,
   "id": "b5145420-2024-4777-b9e5-112d19f315e5",
   "metadata": {
    "execution": {
     "iopub.execute_input": "2024-11-11T12:45:27.400818Z",
     "iopub.status.busy": "2024-11-11T12:45:27.400750Z",
     "iopub.status.idle": "2024-11-11T12:45:27.416142Z",
     "shell.execute_reply": "2024-11-11T12:45:27.415941Z",
     "shell.execute_reply.started": "2024-11-11T12:45:27.400811Z"
    },
    "tags": []
   },
   "outputs": [
    {
     "data": {
      "image/png": "[encoded data removed]",
      "text/latex": [
       "$\\displaystyle e^{\\frac{\\left(- \\alpha + \\mu\\right)^{2}}{2 \\sigma^{2}}}$"
      ],
      "text/plain": [
       "         2\n",
       " (-α + μ) \n",
       " ─────────\n",
       "      2   \n",
       "   2⋅σ    \n",
       "ℯ         "
      ]
     },
     "execution_count": 19,
     "metadata": {},
     "output_type": "execute_result"
    }
   ],
   "source": [
    "mu, alpha, sigma = sp.symbols('mu, alpha, sigma')\n",
    "\n",
    "expr = sp.exp((mu - alpha)**2 / (2 * sigma**2))\n",
    "expr"
   ]
  },
  {
   "cell_type": "code",
   "execution_count": 20,
   "id": "485df68f-181d-4526-a955-b8fe09891f2e",
   "metadata": {
    "execution": {
     "iopub.execute_input": "2024-11-11T12:45:27.416519Z",
     "iopub.status.busy": "2024-11-11T12:45:27.416441Z",
     "iopub.status.idle": "2024-11-11T12:45:27.422371Z",
     "shell.execute_reply": "2024-11-11T12:45:27.422182Z",
     "shell.execute_reply.started": "2024-11-11T12:45:27.416512Z"
    }
   },
   "outputs": [
    {
     "data": {
      "image/png": "[encoded data removed]",
      "text/latex": [
       "$\\displaystyle \\frac{hello}{3}$"
      ],
      "text/plain": [
       "hello\n",
       "─────\n",
       "  3  "
      ]
     },
     "execution_count": 20,
     "metadata": {},
     "output_type": "execute_result"
    }
   ],
   "source": [
    "hello = sp.symbols('hello')\n",
    "hello/3"
   ]
  },
  {
   "cell_type": "code",
   "execution_count": 21,
   "id": "8f9115a8-571d-448b-9ff3-ea4870f58958",
   "metadata": {
    "execution": {
     "iopub.execute_input": "2024-11-11T12:45:27.422725Z",
     "iopub.status.busy": "2024-11-11T12:45:27.422651Z",
     "iopub.status.idle": "2024-11-11T12:45:27.428659Z",
     "shell.execute_reply": "2024-11-11T12:45:27.428465Z",
     "shell.execute_reply.started": "2024-11-11T12:45:27.422718Z"
    },
    "tags": []
   },
   "outputs": [
    {
     "data": {
      "image/png": "[encoded data removed]",
      "text/latex": [
       "$\\displaystyle 2 y + 8$"
      ],
      "text/plain": [
       "2⋅y + 8"
      ]
     },
     "execution_count": 21,
     "metadata": {},
     "output_type": "execute_result"
    }
   ],
   "source": [
    "x, y = sp.symbols('x, y') \n",
    "\n",
    "expr = x + 4 + 2*y\n",
    "expr.subs(x, 4) # we can substitute the variable with a number and obtain a result "
   ]
  },
  {
   "cell_type": "code",
   "execution_count": 22,
   "id": "7de0b2cf-24bf-4c01-b9c4-9562e09477dc",
   "metadata": {
    "execution": {
     "iopub.execute_input": "2024-11-11T12:45:27.429027Z",
     "iopub.status.busy": "2024-11-11T12:45:27.428947Z",
     "iopub.status.idle": "2024-11-11T12:45:27.433356Z",
     "shell.execute_reply": "2024-11-11T12:45:27.433172Z",
     "shell.execute_reply.started": "2024-11-11T12:45:27.429020Z"
    },
    "tags": []
   },
   "outputs": [
    {
     "data": {
      "image/png": "[encoded data removed]",
      "text/latex": [
       "$\\displaystyle 6$"
      ],
      "text/plain": [
       "6"
      ]
     },
     "execution_count": 22,
     "metadata": {},
     "output_type": "execute_result"
    }
   ],
   "source": [
    "expr.subs({x: -4, y: 3}) # substituting more than 1 variable happens with a dictionary"
   ]
  },
  {
   "cell_type": "code",
   "execution_count": 23,
   "id": "1f1584a1-c64a-4be1-835c-c53c34779fd8",
   "metadata": {
    "execution": {
     "iopub.execute_input": "2024-11-11T12:45:27.433762Z",
     "iopub.status.busy": "2024-11-11T12:45:27.433687Z",
     "iopub.status.idle": "2024-11-11T12:45:27.435644Z",
     "shell.execute_reply": "2024-11-11T12:45:27.435472Z",
     "shell.execute_reply.started": "2024-11-11T12:45:27.433754Z"
    }
   },
   "outputs": [
    {
     "data": {
      "text/latex": [
       "$\\displaystyle \\frac{3}{x}$"
      ],
      "text/plain": [
       "<IPython.core.display.Math object>"
      ]
     },
     "execution_count": 23,
     "metadata": {},
     "output_type": "execute_result"
    }
   ],
   "source": [
    "expr = 3/x\n",
    "\n",
    "Math(sp.latex(expr)) # converting regular expression to latex code"
   ]
  },
  {
   "cell_type": "code",
   "execution_count": 24,
   "id": "239eafe0-91ca-4b70-ac99-4bdb74b1d61c",
   "metadata": {
    "execution": {
     "iopub.execute_input": "2024-11-11T12:45:27.435968Z",
     "iopub.status.busy": "2024-11-11T12:45:27.435893Z",
     "iopub.status.idle": "2024-11-11T12:45:27.439248Z",
     "shell.execute_reply": "2024-11-11T12:45:27.439080Z",
     "shell.execute_reply.started": "2024-11-11T12:45:27.435960Z"
    }
   },
   "outputs": [
    {
     "data": {
      "text/plain": [
       "'\\\\frac{3}{x}'"
      ]
     },
     "execution_count": 24,
     "metadata": {},
     "output_type": "execute_result"
    }
   ],
   "source": [
    "sp.latex(sp.sympify('3/x')) # converting string to expression and to latex code, ready to display() with Math()"
   ]
  },
  {
   "cell_type": "markdown",
   "id": "3af82f44-4097-49db-8aca-c0196b2ba107",
   "metadata": {
    "jp-MarkdownHeadingCollapsed": true
   },
   "source": [
    "##### Exercise:"
   ]
  },
  {
   "cell_type": "code",
   "execution_count": 25,
   "id": "1ae516cb-5a04-46da-8301-a34466b09f3f",
   "metadata": {
    "execution": {
     "iopub.execute_input": "2024-11-11T12:45:27.439607Z",
     "iopub.status.busy": "2024-11-11T12:45:27.439540Z",
     "iopub.status.idle": "2024-11-11T12:45:27.444444Z",
     "shell.execute_reply": "2024-11-11T12:45:27.444269Z",
     "shell.execute_reply.started": "2024-11-11T12:45:27.439600Z"
    }
   },
   "outputs": [
    {
     "data": {
      "text/latex": [
       "$\\displaystyle \\text{With } x = -2: x^2 + 4 \\quad \\Rightarrow \\quad -2^2 + 4 = 8$"
      ],
      "text/plain": [
       "<IPython.core.display.Math object>"
      ]
     },
     "metadata": {},
     "output_type": "display_data"
    },
    {
     "data": {
      "text/latex": [
       "$\\displaystyle \\text{With } x = -1: x^2 + 4 \\quad \\Rightarrow \\quad -1^2 + 4 = 5$"
      ],
      "text/plain": [
       "<IPython.core.display.Math object>"
      ]
     },
     "metadata": {},
     "output_type": "display_data"
    },
    {
     "data": {
      "text/latex": [
       "$\\displaystyle \\text{With } x = 0: x^2 + 4 \\quad \\Rightarrow \\quad 0^2 + 4 = 4$"
      ],
      "text/plain": [
       "<IPython.core.display.Math object>"
      ]
     },
     "metadata": {},
     "output_type": "display_data"
    },
    {
     "data": {
      "text/latex": [
       "$\\displaystyle \\text{With } x = 1: x^2 + 4 \\quad \\Rightarrow \\quad 1^2 + 4 = 5$"
      ],
      "text/plain": [
       "<IPython.core.display.Math object>"
      ]
     },
     "metadata": {},
     "output_type": "display_data"
    },
    {
     "data": {
      "text/latex": [
       "$\\displaystyle \\text{With } x = 2: x^2 + 4 \\quad \\Rightarrow \\quad 2^2 + 4 = 8$"
      ],
      "text/plain": [
       "<IPython.core.display.Math object>"
      ]
     },
     "metadata": {},
     "output_type": "display_data"
    }
   ],
   "source": [
    "for num in range(-2, 3):\n",
    "    x = sp.symbols('x')\n",
    "    \n",
    "    expr = x**2 + 4\n",
    "    result = expr.subs(x, num)\n",
    "    \n",
    "    display(Math('\\\\text{With } x = %g: x^2 + 4 \\\\quad \\\\Rightarrow \\\\quad %g^2 + 4 = %g' %(num, num, result)))"
   ]
  },
  {
   "cell_type": "markdown",
   "id": "1de4c79e-7406-4bed-b78f-0997a1e0fdc2",
   "metadata": {},
   "source": [
    "#### 4. Use Sympy to understand the **Law of Exponents**"
   ]
  },
  {
   "cell_type": "markdown",
   "id": "29ea8e14-29b6-4a82-8219-0df7f435430e",
   "metadata": {
    "tags": []
   },
   "source": [
    "$$x^yx^z = x^{y + z} $$\n",
    "\n",
    "$$\\frac{x^y}{x^z} = x^yx^{-z} = x^{y - z} $$\n",
    "\n",
    "$$ x^yy^z = x^yy^z$$"
   ]
  },
  {
   "cell_type": "code",
   "execution_count": 26,
   "id": "ba6cf044-61e0-47ff-9328-2984b0b72d0c",
   "metadata": {
    "execution": {
     "iopub.execute_input": "2024-11-11T12:45:27.444774Z",
     "iopub.status.busy": "2024-11-11T12:45:27.444704Z",
     "iopub.status.idle": "2024-11-11T12:45:27.491463Z",
     "shell.execute_reply": "2024-11-11T12:45:27.491254Z",
     "shell.execute_reply.started": "2024-11-11T12:45:27.444767Z"
    },
    "tags": []
   },
   "outputs": [
    {
     "data": {
      "text/latex": [
       "$\\displaystyle x^{y} x^{z}$"
      ],
      "text/plain": [
       "<IPython.core.display.Math object>"
      ]
     },
     "metadata": {},
     "output_type": "display_data"
    },
    {
     "data": {
      "image/png": "[encoded data removed]",
      "text/latex": [
       "$\\displaystyle x^{y} x^{z}$"
      ],
      "text/plain": [
       " y  z\n",
       "x ⋅x "
      ]
     },
     "metadata": {},
     "output_type": "display_data"
    },
    {
     "data": {
      "image/png": "[encoded data removed]",
      "text/latex": [
       "$\\displaystyle x^{y + z}$"
      ],
      "text/plain": [
       " y + z\n",
       "x     "
      ]
     },
     "metadata": {},
     "output_type": "display_data"
    }
   ],
   "source": [
    "x, y, z = sp.symbols('x, y, z')\n",
    "\n",
    "expr = x**y * x**z\n",
    "\n",
    "display(Math(sp.latex(expr)))\n",
    "display(expr) #works only with sympy.init_printing()\n",
    "display(sp.simplify(expr))"
   ]
  },
  {
   "cell_type": "code",
   "execution_count": 27,
   "id": "cfff36f7-ca70-429e-94d6-b81e7cef4995",
   "metadata": {
    "execution": {
     "iopub.execute_input": "2024-11-11T12:45:27.491880Z",
     "iopub.status.busy": "2024-11-11T12:45:27.491799Z",
     "iopub.status.idle": "2024-11-11T12:45:27.505068Z",
     "shell.execute_reply": "2024-11-11T12:45:27.504866Z",
     "shell.execute_reply.started": "2024-11-11T12:45:27.491872Z"
    }
   },
   "outputs": [
    {
     "data": {
      "text/latex": [
       "$\\displaystyle x^{y} x^{z} = x^{y + z}$"
      ],
      "text/plain": [
       "<IPython.core.display.Math object>"
      ]
     },
     "metadata": {},
     "output_type": "display_data"
    },
    {
     "data": {
      "text/latex": [
       "$\\displaystyle x^{y} x^{z} = x^{y - z}$"
      ],
      "text/plain": [
       "<IPython.core.display.Math object>"
      ]
     },
     "metadata": {},
     "output_type": "display_data"
    },
    {
     "data": {
      "text/latex": [
       "$\\displaystyle x^{y} x^{z} = x^{y} y^{z}$"
      ],
      "text/plain": [
       "<IPython.core.display.Math object>"
      ]
     },
     "metadata": {},
     "output_type": "display_data"
    }
   ],
   "source": [
    "expr1 = x**y * x**z\n",
    "expr2 = x**y / x**z\n",
    "expr3 = x**y * y**z\n",
    "\n",
    "display(Math('%s = %s' %(sp.latex(expr1), sp.latex(sp.simplify(expr1)))))\n",
    "display(Math('%s = %s' %(sp.latex(expr1), sp.latex(sp.simplify(expr2)))))\n",
    "display(Math('%s = %s' %(sp.latex(expr1), sp.latex(sp.simplify(expr3)))))"
   ]
  },
  {
   "cell_type": "code",
   "execution_count": 28,
   "id": "77104b7b-452f-491f-b952-a8a990a8ea38",
   "metadata": {
    "execution": {
     "iopub.execute_input": "2024-11-11T12:45:27.505458Z",
     "iopub.status.busy": "2024-11-11T12:45:27.505364Z",
     "iopub.status.idle": "2024-11-11T12:45:27.512360Z",
     "shell.execute_reply": "2024-11-11T12:45:27.512163Z",
     "shell.execute_reply.started": "2024-11-11T12:45:27.505450Z"
    }
   },
   "outputs": [
    {
     "data": {
      "image/png": "[encoded data removed]",
      "text/latex": [
       "$\\displaystyle x^{y + z}$"
      ],
      "text/plain": [
       " y + z\n",
       "x     "
      ]
     },
     "metadata": {},
     "output_type": "display_data"
    }
   ],
   "source": [
    "display(sp.powsimp(expr1))"
   ]
  }
 ],
 "metadata": {
  "kernelspec": {
   "display_name": "Python 3 (ipykernel)",
   "language": "python",
   "name": "python3"
  },
  "language_info": {
   "codemirror_mode": {
    "name": "ipython",
    "version": 3
   },
   "file_extension": ".py",
   "mimetype": "text/x-python",
   "name": "python",
   "nbconvert_exporter": "python",
   "pygments_lexer": "ipython3",
   "version": "3.10.15"
  },
  "toc-autonumbering": false,
  "toc-showcode": false,
  "toc-showmarkdowntxt": false,
  "toc-showtags": false
 },
 "nbformat": 4,
 "nbformat_minor": 5
}
