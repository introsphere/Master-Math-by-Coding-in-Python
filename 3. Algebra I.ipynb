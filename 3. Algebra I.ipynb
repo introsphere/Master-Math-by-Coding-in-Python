{
 "cells": [
  {
   "cell_type": "code",
   "execution_count": 1,
   "id": "7116504c-8ad3-4b68-9e5a-187b65279682",
   "metadata": {
    "execution": {
     "iopub.execute_input": "2024-11-12T07:36:39.454472Z",
     "iopub.status.busy": "2024-11-12T07:36:39.454394Z",
     "iopub.status.idle": "2024-11-12T07:36:39.519324Z",
     "shell.execute_reply": "2024-11-12T07:36:39.518768Z",
     "shell.execute_reply.started": "2024-11-12T07:36:39.454464Z"
    }
   },
   "outputs": [],
   "source": [
    "import sympy as sp\n",
    "from IPython.display import display, Math\n",
    "import numpy as np\n",
    "import math"
   ]
  },
  {
   "cell_type": "markdown",
   "id": "bef40e63-e34d-4135-9e28-39ad466b8843",
   "metadata": {},
   "source": [
    "### Algebra I"
   ]
  },
  {
   "cell_type": "markdown",
   "id": "80474278-8782-4a65-a030-95a00e0025da",
   "metadata": {
    "jp-MarkdownHeadingCollapsed": true
   },
   "source": [
    "#### 1. Solving for x"
   ]
  },
  {
   "cell_type": "code",
   "execution_count": 2,
   "id": "6d496235-412b-4887-84b9-6400b86fd89c",
   "metadata": {
    "execution": {
     "iopub.execute_input": "2024-11-12T07:36:39.519904Z",
     "iopub.status.busy": "2024-11-12T07:36:39.519769Z",
     "iopub.status.idle": "2024-11-12T07:36:39.739284Z",
     "shell.execute_reply": "2024-11-12T07:36:39.739074Z",
     "shell.execute_reply.started": "2024-11-12T07:36:39.519892Z"
    },
    "tags": []
   },
   "outputs": [
    {
     "data": {
      "image/png": "[encoded data removed]",
      "text/latex": [
       "$\\displaystyle \\left[ \\frac{5}{2}\\right]$"
      ],
      "text/plain": [
       "[5/2]"
      ]
     },
     "execution_count": 2,
     "metadata": {},
     "output_type": "execute_result"
    }
   ],
   "source": [
    "x, y = sp.symbols('x, y')\n",
    "\n",
    "expr = 2*x + 4-9\n",
    "\n",
    "solution = sp.solve(expr)  # sympy solves for x, because there's no other variable\n",
    "solution   # returns a list "
   ]
  },
  {
   "cell_type": "code",
   "execution_count": 3,
   "id": "3b369b89-b575-482b-82a2-55af7cc33638",
   "metadata": {
    "execution": {
     "iopub.execute_input": "2024-11-12T07:36:39.739743Z",
     "iopub.status.busy": "2024-11-12T07:36:39.739610Z",
     "iopub.status.idle": "2024-11-12T07:36:39.742112Z",
     "shell.execute_reply": "2024-11-12T07:36:39.741929Z",
     "shell.execute_reply.started": "2024-11-12T07:36:39.739734Z"
    },
    "tags": []
   },
   "outputs": [
    {
     "data": {
      "text/latex": [
       "$\\displaystyle \\text{The solution to } 2 x - 5 \\text{ is x = } 2.5$"
      ],
      "text/plain": [
       "<IPython.core.display.Math object>"
      ]
     },
     "execution_count": 3,
     "metadata": {},
     "output_type": "execute_result"
    }
   ],
   "source": [
    "Math('\\\\text{The solution to } %s \\\\text{ is x = } %g' %(sp.latex(expr), solution[0]))"
   ]
  },
  {
   "cell_type": "code",
   "execution_count": 4,
   "id": "9c788a43-6a66-4d31-a419-fc013068a149",
   "metadata": {
    "execution": {
     "iopub.execute_input": "2024-11-12T07:36:39.742624Z",
     "iopub.status.busy": "2024-11-12T07:36:39.742373Z",
     "iopub.status.idle": "2024-11-12T07:36:39.747851Z",
     "shell.execute_reply": "2024-11-12T07:36:39.747597Z",
     "shell.execute_reply.started": "2024-11-12T07:36:39.742616Z"
    }
   },
   "outputs": [
    {
     "name": "stdout",
     "output_type": "stream",
     "text": [
      "Solution #1 is -2\n",
      "Solution #2 is 2\n"
     ]
    }
   ],
   "source": [
    "expr = x**2 - 4\n",
    "sol = sp.solve(expr)\n",
    "\n",
    "for i in range(0, len(sol)):\n",
    "    print(f'Solution #{i + 1} is {sol[i]}')"
   ]
  },
  {
   "cell_type": "code",
   "execution_count": 5,
   "id": "9e928f6b-1307-4d8f-ae20-932817c7ada3",
   "metadata": {
    "execution": {
     "iopub.execute_input": "2024-11-12T07:36:39.748215Z",
     "iopub.status.busy": "2024-11-12T07:36:39.748134Z",
     "iopub.status.idle": "2024-11-12T07:36:39.822410Z",
     "shell.execute_reply": "2024-11-12T07:36:39.822186Z",
     "shell.execute_reply.started": "2024-11-12T07:36:39.748207Z"
    },
    "tags": []
   },
   "outputs": [
    {
     "data": {
      "image/png": "[encoded data removed]",
      "text/latex": [
       "$\\displaystyle \\left[ \\frac{20}{4 y - 1}\\right]$"
      ],
      "text/plain": [
       "⎡  20   ⎤\n",
       "⎢───────⎥\n",
       "⎣4⋅y - 1⎦"
      ]
     },
     "metadata": {},
     "output_type": "display_data"
    },
    {
     "data": {
      "image/png": "[encoded data removed]",
      "text/latex": [
       "$\\displaystyle \\left[ \\frac{x + 20}{4 x}\\right]$"
      ],
      "text/plain": [
       "⎡x + 20⎤\n",
       "⎢──────⎥\n",
       "⎣ 4⋅x  ⎦"
      ]
     },
     "metadata": {},
     "output_type": "display_data"
    }
   ],
   "source": [
    "expr = x/4 - x*y + 5\n",
    "\n",
    "display(sp.solve(expr, x))\n",
    "display(sp.solve(expr, y))"
   ]
  },
  {
   "cell_type": "markdown",
   "id": "88c8fae5-210c-4b67-8ba1-cd788dd931d5",
   "metadata": {},
   "source": [
    "##### Exercise 1"
   ]
  },
  {
   "cell_type": "code",
   "execution_count": 6,
   "id": "b9528967-25fb-4fc8-a07d-a8dbe3213270",
   "metadata": {
    "execution": {
     "iopub.execute_input": "2024-11-12T07:36:39.823244Z",
     "iopub.status.busy": "2024-11-12T07:36:39.823159Z",
     "iopub.status.idle": "2024-11-12T07:36:39.824756Z",
     "shell.execute_reply": "2024-11-12T07:36:39.824570Z",
     "shell.execute_reply.started": "2024-11-12T07:36:39.823236Z"
    }
   },
   "outputs": [],
   "source": [
    "q = sp.symbols('q')"
   ]
  },
  {
   "cell_type": "code",
   "execution_count": 7,
   "id": "f1556359-480c-4f32-ace8-f3b8f25a0810",
   "metadata": {
    "execution": {
     "iopub.execute_input": "2024-11-12T07:36:39.825086Z",
     "iopub.status.busy": "2024-11-12T07:36:39.825013Z",
     "iopub.status.idle": "2024-11-12T07:36:39.839046Z",
     "shell.execute_reply": "2024-11-12T07:36:39.838710Z",
     "shell.execute_reply.started": "2024-11-12T07:36:39.825079Z"
    },
    "tags": []
   },
   "outputs": [
    {
     "data": {
      "text/latex": [
       "$\\displaystyle - 2 q + 2 + \\frac{3}{q}$"
      ],
      "text/plain": [
       "<IPython.core.display.Math object>"
      ]
     },
     "execution_count": 7,
     "metadata": {},
     "output_type": "execute_result"
    }
   ],
   "source": [
    "# Define and simplify\n",
    "\n",
    "eq = 3*q + 4/q + 3 - 5*q - 1/q - 1\n",
    "\n",
    "Math(sp.latex(eq.simplify()))"
   ]
  },
  {
   "cell_type": "code",
   "execution_count": 8,
   "id": "c5ea88b0-31d4-4475-aaae-f9c3e4efb7bc",
   "metadata": {
    "execution": {
     "iopub.execute_input": "2024-11-12T07:36:39.839516Z",
     "iopub.status.busy": "2024-11-12T07:36:39.839430Z",
     "iopub.status.idle": "2024-11-12T07:36:39.852368Z",
     "shell.execute_reply": "2024-11-12T07:36:39.852053Z",
     "shell.execute_reply.started": "2024-11-12T07:36:39.839508Z"
    },
    "tags": []
   },
   "outputs": [
    {
     "data": {
      "text/latex": [
       "$\\displaystyle q = \\left[ \\frac{1}{2} - \\frac{\\sqrt{7}}{2}, \\  \\frac{1}{2} + \\frac{\\sqrt{7}}{2}\\right]$"
      ],
      "text/plain": [
       "<IPython.core.display.Math object>"
      ]
     },
     "execution_count": 8,
     "metadata": {},
     "output_type": "execute_result"
    }
   ],
   "source": [
    "# Solve \n",
    "\n",
    "Math('q = ' + sp.latex(sp.solve(eq, q)))"
   ]
  },
  {
   "cell_type": "markdown",
   "id": "48f811ef-aead-463c-b0c0-2c1dbc39c9fb",
   "metadata": {},
   "source": [
    "##### Exercise 2"
   ]
  },
  {
   "cell_type": "code",
   "execution_count": 9,
   "id": "5c148f13-74e6-4c14-936b-f9fca9726635",
   "metadata": {
    "execution": {
     "iopub.execute_input": "2024-11-12T07:36:39.852742Z",
     "iopub.status.busy": "2024-11-12T07:36:39.852667Z",
     "iopub.status.idle": "2024-11-12T07:36:39.864242Z",
     "shell.execute_reply": "2024-11-12T07:36:39.864047Z",
     "shell.execute_reply.started": "2024-11-12T07:36:39.852734Z"
    },
    "tags": []
   },
   "outputs": [
    {
     "data": {
      "image/png": "[encoded data removed]",
      "text/latex": [
       "$\\displaystyle 3 q^{2} + 2 q - \\frac{5}{q} - \\frac{4}{q^{3}}$"
      ],
      "text/plain": [
       "   2         5   4 \n",
       "3⋅q  + 2⋅q - ─ - ──\n",
       "             q    3\n",
       "                 q "
      ]
     },
     "execution_count": 9,
     "metadata": {},
     "output_type": "execute_result"
    }
   ],
   "source": [
    "expr2 = 2*q + 3*q**2 - 5/q - 4/q**3\n",
    "expr2"
   ]
  },
  {
   "cell_type": "code",
   "execution_count": 10,
   "id": "c08aaaf1-2734-4e40-9427-54d82dc457fa",
   "metadata": {
    "execution": {
     "iopub.execute_input": "2024-11-12T07:36:39.864614Z",
     "iopub.status.busy": "2024-11-12T07:36:39.864536Z",
     "iopub.status.idle": "2024-11-12T07:36:39.924547Z",
     "shell.execute_reply": "2024-11-12T07:36:39.924263Z",
     "shell.execute_reply.started": "2024-11-12T07:36:39.864606Z"
    },
    "tags": []
   },
   "outputs": [
    {
     "data": {
      "image/png": "[encoded data removed]",
      "text/latex": [
       "$\\displaystyle 3 q^{2} + 2 q - \\frac{5}{q} - \\frac{4}{q^{3}}$"
      ],
      "text/plain": [
       "   2         5   4 \n",
       "3⋅q  + 2⋅q - ─ - ──\n",
       "             q    3\n",
       "                 q "
      ]
     },
     "metadata": {},
     "output_type": "display_data"
    },
    {
     "data": {
      "image/png": "[encoded data removed]",
      "text/latex": [
       "$\\displaystyle \\frac{3 q^{5} + 2 q^{4} - 5 q^{2} - 4}{q^{3}}$"
      ],
      "text/plain": [
       "   5      4      2    \n",
       "3⋅q  + 2⋅q  - 5⋅q  - 4\n",
       "──────────────────────\n",
       "           3          \n",
       "          q           "
      ]
     },
     "metadata": {},
     "output_type": "display_data"
    }
   ],
   "source": [
    "# Simplify and cancel\n",
    "\n",
    "display(sp.simplify(expr2))\n",
    "display(sp.cancel(expr2))"
   ]
  },
  {
   "cell_type": "markdown",
   "id": "cc2364f0-215c-42c4-9a29-fd6838e42b30",
   "metadata": {},
   "source": [
    "- The sp.cancel function in SymPy is used to simplify mathematical expressions by canceling out common factors in the numerator and denominator. It helps in making expressions shorter and more manageable."
   ]
  },
  {
   "cell_type": "markdown",
   "id": "84fa10d4-4492-40f6-a98a-7c22a6b05c36",
   "metadata": {},
   "source": [
    "##### Exercise 3"
   ]
  },
  {
   "cell_type": "code",
   "execution_count": 11,
   "id": "5a570006-0a30-4acb-b21c-fd7456d6980e",
   "metadata": {
    "execution": {
     "iopub.execute_input": "2024-11-12T07:36:39.924861Z",
     "iopub.status.busy": "2024-11-12T07:36:39.924786Z",
     "iopub.status.idle": "2024-11-12T07:36:39.937725Z",
     "shell.execute_reply": "2024-11-12T07:36:39.937539Z",
     "shell.execute_reply.started": "2024-11-12T07:36:39.924853Z"
    },
    "tags": []
   },
   "outputs": [
    {
     "data": {
      "image/png": "[encoded data removed]",
      "text/latex": [
       "$\\displaystyle \\frac{\\sqrt{15} q + \\sqrt{3}}{\\sqrt{10} q + \\sqrt{2}}$"
      ],
      "text/plain": [
       "√15⋅q + √3\n",
       "──────────\n",
       "√10⋅q + √2"
      ]
     },
     "execution_count": 11,
     "metadata": {},
     "output_type": "execute_result"
    }
   ],
   "source": [
    "expr3 = (sp.sqrt(3) + sp.sqrt(15)*q) / (sp.sqrt(2) + sp.sqrt(10)*q)\n",
    "expr3"
   ]
  },
  {
   "cell_type": "code",
   "execution_count": 12,
   "id": "53f7605f-91e3-4936-a687-b218101186d1",
   "metadata": {
    "execution": {
     "iopub.execute_input": "2024-11-12T07:36:39.938098Z",
     "iopub.status.busy": "2024-11-12T07:36:39.938016Z",
     "iopub.status.idle": "2024-11-12T07:36:39.952423Z",
     "shell.execute_reply": "2024-11-12T07:36:39.952201Z",
     "shell.execute_reply.started": "2024-11-12T07:36:39.938089Z"
    },
    "tags": []
   },
   "outputs": [
    {
     "data": {
      "image/png": "[encoded data removed]",
      "text/latex": [
       "$\\displaystyle \\frac{\\sqrt{6}}{2}$"
      ],
      "text/plain": [
       "√6\n",
       "──\n",
       "2 "
      ]
     },
     "execution_count": 12,
     "metadata": {},
     "output_type": "execute_result"
    }
   ],
   "source": [
    "# Simplify\n",
    "\n",
    "expr3.simplify()"
   ]
  },
  {
   "cell_type": "code",
   "execution_count": 13,
   "id": "d9a07d46-5665-4e08-aea0-cdac1f4d4938",
   "metadata": {
    "execution": {
     "iopub.execute_input": "2024-11-12T07:36:39.952802Z",
     "iopub.status.busy": "2024-11-12T07:36:39.952717Z",
     "iopub.status.idle": "2024-11-12T07:36:39.960818Z",
     "shell.execute_reply": "2024-11-12T07:36:39.960609Z",
     "shell.execute_reply.started": "2024-11-12T07:36:39.952792Z"
    },
    "tags": []
   },
   "outputs": [
    {
     "data": {
      "image/png": "[encoded data removed]",
      "text/latex": [
       "$\\displaystyle 1.22474487139159$"
      ],
      "text/plain": [
       "1.22474487139159"
      ]
     },
     "execution_count": 13,
     "metadata": {},
     "output_type": "execute_result"
    }
   ],
   "source": [
    "expr3.subs(q, 3).evalf() # evalf() solves to 15 degrees of precision"
   ]
  },
  {
   "cell_type": "markdown",
   "id": "ac564b76-faec-470e-bcc1-012865908ae9",
   "metadata": {
    "jp-MarkdownHeadingCollapsed": true
   },
   "source": [
    "#### 2. Expanding Terms"
   ]
  },
  {
   "cell_type": "markdown",
   "id": "9c3af393-4639-4e93-9307-0830be9eda8f",
   "metadata": {
    "tags": []
   },
   "source": [
    "$$a(b + c) = ab + ac$$\n",
    "$$(a + b)(c + d) = (ac + ad) + (bc + bd)$$"
   ]
  },
  {
   "cell_type": "code",
   "execution_count": 14,
   "id": "ad5339da-3900-4604-b2a1-ada821a1a89b",
   "metadata": {
    "execution": {
     "iopub.execute_input": "2024-11-12T07:36:39.961200Z",
     "iopub.status.busy": "2024-11-12T07:36:39.961120Z",
     "iopub.status.idle": "2024-11-12T07:36:39.965511Z",
     "shell.execute_reply": "2024-11-12T07:36:39.965320Z",
     "shell.execute_reply.started": "2024-11-12T07:36:39.961192Z"
    },
    "tags": []
   },
   "outputs": [
    {
     "data": {
      "text/latex": [
       "$\\displaystyle x \\left(4 x + 5\\right)$"
      ],
      "text/plain": [
       "<IPython.core.display.Math object>"
      ]
     },
     "metadata": {},
     "output_type": "display_data"
    },
    {
     "data": {
      "text/latex": [
       "$\\displaystyle 4 x^{2} + 5 x$"
      ],
      "text/plain": [
       "<IPython.core.display.Math object>"
      ]
     },
     "metadata": {},
     "output_type": "display_data"
    }
   ],
   "source": [
    "from sympy.abc import x # another way to define x (only for single letters)\n",
    "\n",
    "term1 = (4*x + 5)\n",
    "term2 = x\n",
    "\n",
    "display(Math(sp.latex(term1 * term2)))\n",
    "display(Math(sp.latex(sp.expand(term1 * term2))))"
   ]
  },
  {
   "cell_type": "code",
   "execution_count": 15,
   "id": "66a20b02-1f3c-4025-aad6-8bdfe8615381",
   "metadata": {
    "execution": {
     "iopub.execute_input": "2024-11-12T07:36:39.965859Z",
     "iopub.status.busy": "2024-11-12T07:36:39.965784Z",
     "iopub.status.idle": "2024-11-12T07:36:39.969610Z",
     "shell.execute_reply": "2024-11-12T07:36:39.969279Z",
     "shell.execute_reply.started": "2024-11-12T07:36:39.965852Z"
    },
    "tags": []
   },
   "outputs": [
    {
     "data": {
      "text/latex": [
       "$\\displaystyle \\left(x - 7\\right) \\left(4 x + 5\\right)$"
      ],
      "text/plain": [
       "<IPython.core.display.Math object>"
      ]
     },
     "metadata": {},
     "output_type": "display_data"
    },
    {
     "data": {
      "text/latex": [
       "$\\displaystyle 4 x^{2} - 23 x - 35$"
      ],
      "text/plain": [
       "<IPython.core.display.Math object>"
      ]
     },
     "metadata": {},
     "output_type": "display_data"
    }
   ],
   "source": [
    "term3 = x-7\n",
    "\n",
    "display(Math(sp.latex(term1*term3)))\n",
    "display(Math(sp.latex(sp.expand(term1*term3))))"
   ]
  },
  {
   "cell_type": "code",
   "execution_count": 16,
   "id": "1adea29b-fe41-40be-b06d-7f2196d9fcc7",
   "metadata": {
    "execution": {
     "iopub.execute_input": "2024-11-12T07:36:39.969897Z",
     "iopub.status.busy": "2024-11-12T07:36:39.969825Z",
     "iopub.status.idle": "2024-11-12T07:36:39.974277Z",
     "shell.execute_reply": "2024-11-12T07:36:39.974008Z",
     "shell.execute_reply.started": "2024-11-12T07:36:39.969889Z"
    },
    "tags": []
   },
   "outputs": [
    {
     "data": {
      "text/latex": [
       "$\\displaystyle x \\left(- \\frac{5^{x}}{x} + 2 y^{2}\\right)$"
      ],
      "text/plain": [
       "<IPython.core.display.Math object>"
      ]
     },
     "metadata": {},
     "output_type": "display_data"
    },
    {
     "data": {
      "text/latex": [
       "$\\displaystyle - 5^{x} + 2 x y^{2}$"
      ],
      "text/plain": [
       "<IPython.core.display.Math object>"
      ]
     },
     "metadata": {},
     "output_type": "display_data"
    }
   ],
   "source": [
    "from sympy.abc import y\n",
    "\n",
    "expr = x*(2*y**2 - 5**x/x)\n",
    "display(Math(sp.latex(expr)))\n",
    "display(Math(sp.latex(sp.expand(expr))))"
   ]
  },
  {
   "cell_type": "markdown",
   "id": "a6cf7ca8-6584-48ca-ab18-6ed1d1c61133",
   "metadata": {},
   "source": [
    "##### Exercise:"
   ]
  },
  {
   "cell_type": "code",
   "execution_count": 17,
   "id": "7234b540-78be-45f2-8d12-94587ff82f0e",
   "metadata": {
    "execution": {
     "iopub.execute_input": "2024-11-12T07:36:39.974913Z",
     "iopub.status.busy": "2024-11-12T07:36:39.974679Z",
     "iopub.status.idle": "2024-11-12T07:36:39.980138Z",
     "shell.execute_reply": "2024-11-12T07:36:39.979894Z",
     "shell.execute_reply.started": "2024-11-12T07:36:39.974884Z"
    },
    "tags": []
   },
   "outputs": [
    {
     "data": {
      "text/latex": [
       "$\\displaystyle \\text{When x = } 0 \\text{ and y = } 0 \\text{, f(x, y) = } 8$"
      ],
      "text/plain": [
       "<IPython.core.display.Math object>"
      ]
     },
     "metadata": {},
     "output_type": "display_data"
    },
    {
     "data": {
      "text/latex": [
       "$\\displaystyle \\text{When x = } 0 \\text{ and y = } 1 \\text{, f(x, y) = } 4$"
      ],
      "text/plain": [
       "<IPython.core.display.Math object>"
      ]
     },
     "metadata": {},
     "output_type": "display_data"
    },
    {
     "data": {
      "text/latex": [
       "$\\displaystyle \\text{When x = } 0 \\text{ and y = } 2 \\text{, f(x, y) = } 0$"
      ],
      "text/plain": [
       "<IPython.core.display.Math object>"
      ]
     },
     "metadata": {},
     "output_type": "display_data"
    },
    {
     "data": {
      "text/latex": [
       "$\\displaystyle \\text{When x = } 1 \\text{ and y = } 0 \\text{, f(x, y) = } 10$"
      ],
      "text/plain": [
       "<IPython.core.display.Math object>"
      ]
     },
     "metadata": {},
     "output_type": "display_data"
    },
    {
     "data": {
      "text/latex": [
       "$\\displaystyle \\text{When x = } 1 \\text{ and y = } 1 \\text{, f(x, y) = } 5$"
      ],
      "text/plain": [
       "<IPython.core.display.Math object>"
      ]
     },
     "metadata": {},
     "output_type": "display_data"
    },
    {
     "data": {
      "text/latex": [
       "$\\displaystyle \\text{When x = } 1 \\text{ and y = } 2 \\text{, f(x, y) = } 0$"
      ],
      "text/plain": [
       "<IPython.core.display.Math object>"
      ]
     },
     "metadata": {},
     "output_type": "display_data"
    },
    {
     "data": {
      "text/latex": [
       "$\\displaystyle \\text{When x = } 2 \\text{ and y = } 0 \\text{, f(x, y) = } 12$"
      ],
      "text/plain": [
       "<IPython.core.display.Math object>"
      ]
     },
     "metadata": {},
     "output_type": "display_data"
    },
    {
     "data": {
      "text/latex": [
       "$\\displaystyle \\text{When x = } 2 \\text{ and y = } 1 \\text{, f(x, y) = } 6$"
      ],
      "text/plain": [
       "<IPython.core.display.Math object>"
      ]
     },
     "metadata": {},
     "output_type": "display_data"
    },
    {
     "data": {
      "text/latex": [
       "$\\displaystyle \\text{When x = } 2 \\text{ and y = } 2 \\text{, f(x, y) = } 0$"
      ],
      "text/plain": [
       "<IPython.core.display.Math object>"
      ]
     },
     "metadata": {},
     "output_type": "display_data"
    }
   ],
   "source": [
    "for x in range(0, 3):\n",
    "    for y in range(0, 3):\n",
    "        fxy = (4+x) * (2-y)\n",
    "        display(Math(\n",
    "            '\\\\text{When x = } %g \\\\text{ and y = } %g \\\\text{, f(x, y) = } %g' \n",
    "             %(x, y, fxy)\n",
    "))"
   ]
  },
  {
   "cell_type": "markdown",
   "id": "6f15989c-681a-4c64-a022-871bd8c616a0",
   "metadata": {
    "jp-MarkdownHeadingCollapsed": true
   },
   "source": [
    "#### 3. Creating and Accessing Matrices with NumPy"
   ]
  },
  {
   "cell_type": "markdown",
   "id": "1f65d083-61bd-44bd-9108-3e1446a945d2",
   "metadata": {
    "tags": []
   },
   "source": [
    "$$A = \\begin{bmatrix} 1 & 2 \\\\ 3 & 4 \\end{bmatrix}$$"
   ]
  },
  {
   "cell_type": "code",
   "execution_count": 18,
   "id": "7eedc7b0-8aa5-4d4a-8d02-5bb7ebc338db",
   "metadata": {
    "execution": {
     "iopub.execute_input": "2024-11-12T07:36:39.980511Z",
     "iopub.status.busy": "2024-11-12T07:36:39.980439Z",
     "iopub.status.idle": "2024-11-12T07:36:39.982804Z",
     "shell.execute_reply": "2024-11-12T07:36:39.982572Z",
     "shell.execute_reply.started": "2024-11-12T07:36:39.980503Z"
    },
    "tags": []
   },
   "outputs": [
    {
     "data": {
      "text/latex": [
       "$\\displaystyle \\left[\\begin{matrix}1 & 2\\\\3 & 4\\end{matrix}\\right]$"
      ],
      "text/plain": [
       "<IPython.core.display.Math object>"
      ]
     },
     "execution_count": 18,
     "metadata": {},
     "output_type": "execute_result"
    }
   ],
   "source": [
    "A = np.array([[1, 2], [3, 4]])\n",
    "\n",
    "Math(sp.latex(sp.sympify(A)))"
   ]
  },
  {
   "cell_type": "code",
   "execution_count": 19,
   "id": "e812bec1-84c1-47a5-b5ad-9d590fa6d2b9",
   "metadata": {
    "execution": {
     "iopub.execute_input": "2024-11-12T07:36:39.983149Z",
     "iopub.status.busy": "2024-11-12T07:36:39.983080Z",
     "iopub.status.idle": "2024-11-12T07:36:39.985215Z",
     "shell.execute_reply": "2024-11-12T07:36:39.984973Z",
     "shell.execute_reply.started": "2024-11-12T07:36:39.983142Z"
    },
    "tags": []
   },
   "outputs": [
    {
     "data": {
      "text/plain": [
       "array([[0., 0., 0., 0., 0., 0.],\n",
       "       [0., 0., 0., 0., 0., 0.],\n",
       "       [0., 0., 0., 0., 0., 0.],\n",
       "       [0., 0., 0., 0., 0., 0.]])"
      ]
     },
     "execution_count": 19,
     "metadata": {},
     "output_type": "execute_result"
    }
   ],
   "source": [
    "# 0 Matrix\n",
    "\n",
    "mat = np.zeros([4, 6])\n",
    "\n",
    "mat"
   ]
  },
  {
   "cell_type": "code",
   "execution_count": 20,
   "id": "10a00464-6a25-48a7-9de8-c1ea3283b419",
   "metadata": {
    "execution": {
     "iopub.execute_input": "2024-11-12T07:36:39.985559Z",
     "iopub.status.busy": "2024-11-12T07:36:39.985487Z",
     "iopub.status.idle": "2024-11-12T07:36:39.987963Z",
     "shell.execute_reply": "2024-11-12T07:36:39.987792Z",
     "shell.execute_reply.started": "2024-11-12T07:36:39.985552Z"
    },
    "tags": []
   },
   "outputs": [
    {
     "data": {
      "text/latex": [
       "$\\displaystyle \\left[\\begin{matrix}0.0 & 2.0 & 0.0 & 0.0 & 0.0 & 0.0\\\\0.0 & 0.0 & 0.0 & 0.0 & 0.0 & 0.0\\\\0.0 & 0.0 & 0.0 & 0.0 & 7.0 & 0.0\\\\0.0 & 0.0 & 0.0 & 0.0 & 0.0 & 0.0\\end{matrix}\\right]$"
      ],
      "text/plain": [
       "<IPython.core.display.Math object>"
      ]
     },
     "execution_count": 20,
     "metadata": {},
     "output_type": "execute_result"
    }
   ],
   "source": [
    "# Assign number to particular element\n",
    "mat[0, 1] = 2\n",
    "mat[2, 4] = 7\n",
    "\n",
    "Math(sp.latex(sp.sympify(mat)))"
   ]
  },
  {
   "cell_type": "code",
   "execution_count": 21,
   "id": "1e094bc6-b3c1-444c-af42-74f1b3b85d7a",
   "metadata": {
    "execution": {
     "iopub.execute_input": "2024-11-12T07:36:39.989581Z",
     "iopub.status.busy": "2024-11-12T07:36:39.989502Z",
     "iopub.status.idle": "2024-11-12T07:36:39.992211Z",
     "shell.execute_reply": "2024-11-12T07:36:39.992035Z",
     "shell.execute_reply.started": "2024-11-12T07:36:39.989573Z"
    },
    "tags": []
   },
   "outputs": [
    {
     "data": {
      "text/latex": [
       "$\\displaystyle \\left[\\begin{matrix}1.0 & -1.0 & 1.0 & -1.0 & 0.0 & 0.0\\\\-1.0 & 1.0 & -1.0 & 1.0 & 0.0 & 0.0\\\\1.0 & -1.0 & 1.0 & -1.0 & 7.0 & 0.0\\\\-1.0 & 1.0 & -1.0 & 1.0 & 0.0 & 0.0\\end{matrix}\\right]$"
      ],
      "text/plain": [
       "<IPython.core.display.Math object>"
      ]
     },
     "execution_count": 21,
     "metadata": {},
     "output_type": "execute_result"
    }
   ],
   "source": [
    "# Populating a matrix\n",
    "\n",
    "numrange = range(0, 4)\n",
    "\n",
    "for rowi in numrange:\n",
    "    for coli in numrange:\n",
    "        mat[rowi, coli] = (-1)**(rowi + coli)\n",
    "\n",
    "Math(sp.latex(sp.sympify(mat)))"
   ]
  },
  {
   "cell_type": "markdown",
   "id": "1377d17c-14dc-4b14-adff-64e50b44fd67",
   "metadata": {},
   "source": [
    "##### Exercise:"
   ]
  },
  {
   "cell_type": "code",
   "execution_count": 22,
   "id": "34318ef2-3015-42cb-8860-71974bbee729",
   "metadata": {
    "execution": {
     "iopub.execute_input": "2024-11-12T07:36:39.992647Z",
     "iopub.status.busy": "2024-11-12T07:36:39.992463Z",
     "iopub.status.idle": "2024-11-12T07:36:39.996489Z",
     "shell.execute_reply": "2024-11-12T07:36:39.996303Z",
     "shell.execute_reply.started": "2024-11-12T07:36:39.992636Z"
    },
    "tags": []
   },
   "outputs": [
    {
     "data": {
      "text/latex": [
       "$\\displaystyle \\left[\\begin{matrix}8.0 & 4.0 & 0.0\\\\10.0 & 5.0 & 0.0\\\\12.0 & 6.0 & 0.0\\end{matrix}\\right]$"
      ],
      "text/plain": [
       "<IPython.core.display.Math object>"
      ]
     },
     "execution_count": 22,
     "metadata": {},
     "output_type": "execute_result"
    }
   ],
   "source": [
    "x, y = sp.symbols('x, y')\n",
    "\n",
    "fxy = (4 + x) * (2 - y)\n",
    "\n",
    "xyset = range(0, 3)\n",
    "\n",
    "M = np.zeros([len(xyset), len(xyset)])\n",
    "\n",
    "\n",
    "\n",
    "for rowi in xyset:\n",
    "    for coli in xyset:\n",
    "        M[rowi, coli] = fxy.subs({x: rowi, y: coli})\n",
    "\n",
    "Math(sp.latex(sp.sympify(M)))"
   ]
  },
  {
   "cell_type": "markdown",
   "id": "91d5cf06-da24-46ab-96ff-513a4416079e",
   "metadata": {
    "jp-MarkdownHeadingCollapsed": true
   },
   "source": [
    "#### 4. Exercise - Create a Multiplication Table\n",
    "\n",
    "Create the multiplication table from 1 to 100 in the form of a matrix."
   ]
  },
  {
   "cell_type": "code",
   "execution_count": 23,
   "id": "12e51b0a-2194-4943-ae80-6313dd9e16cc",
   "metadata": {
    "execution": {
     "iopub.execute_input": "2024-11-12T07:36:39.996810Z",
     "iopub.status.busy": "2024-11-12T07:36:39.996736Z",
     "iopub.status.idle": "2024-11-12T07:36:39.998440Z",
     "shell.execute_reply": "2024-11-12T07:36:39.998119Z",
     "shell.execute_reply.started": "2024-11-12T07:36:39.996803Z"
    },
    "tags": []
   },
   "outputs": [],
   "source": [
    "nrange = range (1, 11)\n",
    "\n",
    "T = np.zeros([len(nrange), len(nrange)], dtype=int)"
   ]
  },
  {
   "cell_type": "code",
   "execution_count": 24,
   "id": "baf933d3-1a20-4b72-8715-268a827b6976",
   "metadata": {
    "execution": {
     "iopub.execute_input": "2024-11-12T07:36:39.998850Z",
     "iopub.status.busy": "2024-11-12T07:36:39.998729Z",
     "iopub.status.idle": "2024-11-12T07:36:40.002085Z",
     "shell.execute_reply": "2024-11-12T07:36:40.001901Z",
     "shell.execute_reply.started": "2024-11-12T07:36:39.998842Z"
    },
    "tags": []
   },
   "outputs": [
    {
     "data": {
      "text/latex": [
       "$\\displaystyle \\left[\\begin{matrix}1 & 2 & 3 & 4 & 5 & 6 & 7 & 8 & 9 & 10\\\\2 & 4 & 6 & 8 & 10 & 12 & 14 & 16 & 18 & 20\\\\3 & 6 & 9 & 12 & 15 & 18 & 21 & 24 & 27 & 30\\\\4 & 8 & 12 & 16 & 20 & 24 & 28 & 32 & 36 & 40\\\\5 & 10 & 15 & 20 & 25 & 30 & 35 & 40 & 45 & 50\\\\6 & 12 & 18 & 24 & 30 & 36 & 42 & 48 & 54 & 60\\\\7 & 14 & 21 & 28 & 35 & 42 & 49 & 56 & 63 & 70\\\\8 & 16 & 24 & 32 & 40 & 48 & 56 & 64 & 72 & 80\\\\9 & 18 & 27 & 36 & 45 & 54 & 63 & 72 & 81 & 90\\\\10 & 20 & 30 & 40 & 50 & 60 & 70 & 80 & 90 & 100\\end{matrix}\\right]$"
      ],
      "text/plain": [
       "<IPython.core.display.Math object>"
      ]
     },
     "execution_count": 24,
     "metadata": {},
     "output_type": "execute_result"
    }
   ],
   "source": [
    "for row in nrange:\n",
    "    for col in nrange:\n",
    "        T[row-1, col-1] = row * col\n",
    "\n",
    "Math(sp.latex(sp.sympify(T)))"
   ]
  },
  {
   "cell_type": "markdown",
   "id": "565848e9-0435-483d-87b0-964c6050de2d",
   "metadata": {
    "jp-MarkdownHeadingCollapsed": true
   },
   "source": [
    "#### 5. Associative, Commutative and Distributive Properties "
   ]
  },
  {
   "cell_type": "code",
   "execution_count": 25,
   "id": "fe17815a-13b5-41c0-9f80-009d7f9216ee",
   "metadata": {
    "execution": {
     "iopub.execute_input": "2024-11-12T07:36:40.002443Z",
     "iopub.status.busy": "2024-11-12T07:36:40.002371Z",
     "iopub.status.idle": "2024-11-12T07:36:40.007087Z",
     "shell.execute_reply": "2024-11-12T07:36:40.006915Z",
     "shell.execute_reply.started": "2024-11-12T07:36:40.002436Z"
    },
    "tags": []
   },
   "outputs": [
    {
     "data": {
      "image/png": "[encoded data removed]",
      "text/latex": [
       "$\\displaystyle \\text{True}$"
      ],
      "text/plain": [
       "True"
      ]
     },
     "execution_count": 25,
     "metadata": {},
     "output_type": "execute_result"
    }
   ],
   "source": [
    "# Associative\n",
    "\n",
    "expr1 = x*(4*y)\n",
    "expr2 = (x*4)*y\n",
    "\n",
    "sp.Eq(expr1, expr2)"
   ]
  },
  {
   "cell_type": "code",
   "execution_count": 26,
   "id": "95e03b6e-e3d1-466b-b006-a6b11b4a4ea5",
   "metadata": {
    "execution": {
     "iopub.execute_input": "2024-11-12T07:36:40.007406Z",
     "iopub.status.busy": "2024-11-12T07:36:40.007337Z",
     "iopub.status.idle": "2024-11-12T07:36:40.018182Z",
     "shell.execute_reply": "2024-11-12T07:36:40.018005Z",
     "shell.execute_reply.started": "2024-11-12T07:36:40.007399Z"
    },
    "tags": []
   },
   "outputs": [
    {
     "data": {
      "image/png": "[encoded data removed]",
      "text/latex": [
       "$\\displaystyle 24$"
      ],
      "text/plain": [
       "24"
      ]
     },
     "metadata": {},
     "output_type": "display_data"
    },
    {
     "data": {
      "image/png": "[encoded data removed]",
      "text/latex": [
       "$\\displaystyle 24$"
      ],
      "text/plain": [
       "24"
      ]
     },
     "metadata": {},
     "output_type": "display_data"
    },
    {
     "data": {
      "image/png": "[encoded data removed]",
      "text/latex": [
       "$\\displaystyle 24$"
      ],
      "text/plain": [
       "24"
      ]
     },
     "metadata": {},
     "output_type": "display_data"
    }
   ],
   "source": [
    "# Commutative\n",
    "\n",
    "e1 = 4*x*y\n",
    "e2 = x*4*y\n",
    "e3 = y*x*4\n",
    "\n",
    "display(e1.subs({x: 3, y: 2}))\n",
    "display(e2.subs({x: 3, y: 2}))\n",
    "display(e3.subs({x: 3, y: 2}))"
   ]
  },
  {
   "cell_type": "code",
   "execution_count": 27,
   "id": "d5e77384-ddfe-4350-bec4-480c15444429",
   "metadata": {
    "execution": {
     "iopub.execute_input": "2024-11-12T07:36:40.018510Z",
     "iopub.status.busy": "2024-11-12T07:36:40.018438Z",
     "iopub.status.idle": "2024-11-12T07:36:40.024395Z",
     "shell.execute_reply": "2024-11-12T07:36:40.024220Z",
     "shell.execute_reply.started": "2024-11-12T07:36:40.018503Z"
    },
    "tags": []
   },
   "outputs": [
    {
     "data": {
      "image/png": "[encoded data removed]",
      "text/latex": [
       "$\\displaystyle a c + a d$"
      ],
      "text/plain": [
       "a⋅c + a⋅d"
      ]
     },
     "execution_count": 27,
     "metadata": {},
     "output_type": "execute_result"
    }
   ],
   "source": [
    "# Distributive\n",
    "\n",
    "a, c, d = sp.symbols('a, c, d')\n",
    "\n",
    "expr = a * (c + d)\n",
    "sp.expand(expr)"
   ]
  },
  {
   "cell_type": "markdown",
   "id": "bea2413b-5554-4cb9-9a06-b3caf9bf82fb",
   "metadata": {},
   "source": [
    "##### Exercise"
   ]
  },
  {
   "cell_type": "code",
   "execution_count": 28,
   "id": "ec302c46-6eb3-4153-8b36-02e970d21cbd",
   "metadata": {
    "execution": {
     "iopub.execute_input": "2024-11-12T07:36:40.024708Z",
     "iopub.status.busy": "2024-11-12T07:36:40.024637Z",
     "iopub.status.idle": "2024-11-12T07:36:40.026018Z",
     "shell.execute_reply": "2024-11-12T07:36:40.025850Z",
     "shell.execute_reply.started": "2024-11-12T07:36:40.024701Z"
    },
    "tags": []
   },
   "outputs": [],
   "source": [
    "x, y, z, w = sp.symbols('x, y, z, w')"
   ]
  },
  {
   "cell_type": "code",
   "execution_count": 29,
   "id": "2ff5d9fb-9c22-4377-a8d7-bdce919ade27",
   "metadata": {
    "execution": {
     "iopub.execute_input": "2024-11-12T07:36:40.026397Z",
     "iopub.status.busy": "2024-11-12T07:36:40.026308Z",
     "iopub.status.idle": "2024-11-12T07:36:40.027975Z",
     "shell.execute_reply": "2024-11-12T07:36:40.027758Z",
     "shell.execute_reply.started": "2024-11-12T07:36:40.026389Z"
    },
    "tags": []
   },
   "outputs": [],
   "source": [
    "x = w*(4 - w) + 1/w**2 * (1 + w)"
   ]
  },
  {
   "cell_type": "code",
   "execution_count": 30,
   "id": "f27d8e15-1f26-4488-8adb-9d958371199e",
   "metadata": {
    "execution": {
     "iopub.execute_input": "2024-11-12T07:36:40.028315Z",
     "iopub.status.busy": "2024-11-12T07:36:40.028241Z",
     "iopub.status.idle": "2024-11-12T07:36:40.030848Z",
     "shell.execute_reply": "2024-11-12T07:36:40.030641Z",
     "shell.execute_reply.started": "2024-11-12T07:36:40.028308Z"
    },
    "tags": []
   },
   "outputs": [],
   "source": [
    "f1 = x*(y + z)\n",
    "f2 = 3/x + x**2"
   ]
  },
  {
   "cell_type": "markdown",
   "id": "fe3c3e54-ffd2-481c-909b-d9c1c5b1e1d1",
   "metadata": {},
   "source": [
    "##### Exercise 2"
   ]
  },
  {
   "cell_type": "code",
   "execution_count": 31,
   "id": "b2e39e83-6418-4903-90a3-f1365ef006c9",
   "metadata": {
    "execution": {
     "iopub.execute_input": "2024-11-12T07:36:40.031195Z",
     "iopub.status.busy": "2024-11-12T07:36:40.031122Z",
     "iopub.status.idle": "2024-11-12T07:36:40.058036Z",
     "shell.execute_reply": "2024-11-12T07:36:40.057836Z",
     "shell.execute_reply.started": "2024-11-12T07:36:40.031187Z"
    },
    "tags": []
   },
   "outputs": [
    {
     "data": {
      "image/png": "[encoded data removed]",
      "text/latex": [
       "$\\displaystyle \\left(y + z\\right) \\left(w \\left(4 - w\\right) + \\frac{w + 1}{w^{2}}\\right) \\left(\\left(w \\left(4 - w\\right) + \\frac{w + 1}{w^{2}}\\right)^{2} + \\frac{3}{w \\left(4 - w\\right) + \\frac{w + 1}{w^{2}}}\\right)$"
      ],
      "text/plain": [
       "                            ⎛                   2                    ⎞\n",
       "        ⎛            w + 1⎞ ⎜⎛            w + 1⎞            3        ⎟\n",
       "(y + z)⋅⎜w⋅(4 - w) + ─────⎟⋅⎜⎜w⋅(4 - w) + ─────⎟  + ─────────────────⎟\n",
       "        ⎜              2  ⎟ ⎜⎜              2  ⎟                w + 1⎟\n",
       "        ⎝             w   ⎠ ⎜⎝             w   ⎠    w⋅(4 - w) + ─────⎟\n",
       "                            ⎜                                     2  ⎟\n",
       "                            ⎝                                    w   ⎠"
      ]
     },
     "metadata": {},
     "output_type": "display_data"
    }
   ],
   "source": [
    "display(f1 * f2)"
   ]
  },
  {
   "cell_type": "code",
   "execution_count": 32,
   "id": "57c317df-6ef2-404e-a31b-a5f64c5b4d2d",
   "metadata": {
    "execution": {
     "iopub.execute_input": "2024-11-12T07:36:40.058420Z",
     "iopub.status.busy": "2024-11-12T07:36:40.058337Z",
     "iopub.status.idle": "2024-11-12T07:36:40.117603Z",
     "shell.execute_reply": "2024-11-12T07:36:40.117402Z",
     "shell.execute_reply.started": "2024-11-12T07:36:40.058412Z"
    },
    "tags": []
   },
   "outputs": [
    {
     "data": {
      "image/png": "[encoded data removed]",
      "text/latex": [
       "$\\displaystyle \\frac{\\left(3 w^{6} + \\left(- w^{3} \\left(w - 4\\right) + w + 1\\right)^{3}\\right) \\left(y + z\\right)}{w^{6}}$"
      ],
      "text/plain": [
       "⎛                             3⎞        \n",
       "⎜   6   ⎛   3                ⎞ ⎟        \n",
       "⎝3⋅w  + ⎝- w ⋅(w - 4) + w + 1⎠ ⎠⋅(y + z)\n",
       "────────────────────────────────────────\n",
       "                    6                   \n",
       "                   w                    "
      ]
     },
     "metadata": {},
     "output_type": "display_data"
    }
   ],
   "source": [
    "display(sp.simplify(f1 * f2))"
   ]
  },
  {
   "cell_type": "markdown",
   "id": "33098300-121a-431f-b50a-b62c9b127649",
   "metadata": {
    "tags": []
   },
   "source": [
    "##### Exercise 3"
   ]
  },
  {
   "cell_type": "code",
   "execution_count": 33,
   "id": "c08272e5-962a-4b9b-a4d2-7e89e39c06aa",
   "metadata": {
    "execution": {
     "iopub.execute_input": "2024-11-12T07:36:40.117983Z",
     "iopub.status.busy": "2024-11-12T07:36:40.117901Z",
     "iopub.status.idle": "2024-11-12T07:36:40.122454Z",
     "shell.execute_reply": "2024-11-12T07:36:40.122276Z",
     "shell.execute_reply.started": "2024-11-12T07:36:40.117974Z"
    }
   },
   "outputs": [
    {
     "data": {
      "image/png": "[encoded data removed]",
      "text/latex": [
       "$\\displaystyle \\text{True}$"
      ],
      "text/plain": [
       "True"
      ]
     },
     "execution_count": 33,
     "metadata": {},
     "output_type": "execute_result"
    }
   ],
   "source": [
    "sp.Eq((f1 *  f2), (f2 * f1))"
   ]
  },
  {
   "cell_type": "markdown",
   "id": "322def9b-f19b-4b00-9dfe-0a7f60e62527",
   "metadata": {
    "jp-MarkdownHeadingCollapsed": true
   },
   "source": [
    "#### 6. Greatest Common Denominator G\n",
    "\n",
    "##### 6.1 Definition\n",
    "\n",
    "- The largest integer that divides into two numbers with no reminder\n",
    "\n",
    "- Application: reducing fractions!\n",
    "\n",
    "$$\n",
    "\\text{If } gcd(a, b) = c,\n",
    "\\text{ then } \\frac{a}{b} = \n",
    "\\frac{\\frac{a}{c} \\times c}{\\frac{b}{c} \\times c} =\n",
    "\\frac{a/c}{b/c}\n",
    "$$\n",
    "\n",
    "$$\n",
    "gcd(6, 15) = 3,\n",
    "\\text{ so } \\frac{6}{15} = \n",
    "\\frac{\\frac{6}{3} \\times 3}{\\frac{15}{3} \\times 3} =\n",
    "\\frac{6/3}{15/3} = \\frac{2}{5}\n",
    "$$"
   ]
  },
  {
   "cell_type": "code",
   "execution_count": 34,
   "id": "e90487e2-207f-4fd5-ba5b-4a4d98687c63",
   "metadata": {
    "execution": {
     "iopub.execute_input": "2024-11-12T07:36:40.122799Z",
     "iopub.status.busy": "2024-11-12T07:36:40.122723Z",
     "iopub.status.idle": "2024-11-12T07:36:40.126646Z",
     "shell.execute_reply": "2024-11-12T07:36:40.126472Z",
     "shell.execute_reply.started": "2024-11-12T07:36:40.122791Z"
    },
    "tags": []
   },
   "outputs": [
    {
     "data": {
      "image/png": "[encoded data removed]",
      "text/latex": [
       "$\\displaystyle 3$"
      ],
      "text/plain": [
       "3"
      ]
     },
     "execution_count": 34,
     "metadata": {},
     "output_type": "execute_result"
    }
   ],
   "source": [
    "math.gcd(6, 15)"
   ]
  },
  {
   "cell_type": "code",
   "execution_count": 35,
   "id": "a57f39cc-82b6-4a96-bbf3-70eeed7e4d3f",
   "metadata": {
    "execution": {
     "iopub.execute_input": "2024-11-12T07:36:40.126976Z",
     "iopub.status.busy": "2024-11-12T07:36:40.126903Z",
     "iopub.status.idle": "2024-11-12T07:36:40.128887Z",
     "shell.execute_reply": "2024-11-12T07:36:40.128717Z",
     "shell.execute_reply.started": "2024-11-12T07:36:40.126968Z"
    },
    "tags": []
   },
   "outputs": [
    {
     "data": {
      "text/latex": [
       "$\\displaystyle \\frac{16}{88} = \\frac{2 \\times 8}{11 \\times 8}$"
      ],
      "text/plain": [
       "<IPython.core.display.Math object>"
      ]
     },
     "execution_count": 35,
     "metadata": {},
     "output_type": "execute_result"
    }
   ],
   "source": [
    "a = 16\n",
    "b = 88\n",
    "\n",
    "fact = math.gcd(a, b)\n",
    "\n",
    "Math('\\\\frac{%g}{%g} = \\\\frac{%g \\\\times %g}{%g \\\\times %g}' %(a, b, a/fact, fact, b/fact, fact))"
   ]
  },
  {
   "cell_type": "markdown",
   "id": "198a31bc-15e0-4329-9d2a-0dac1012309e",
   "metadata": {},
   "source": [
    "##### Exercise 1"
   ]
  },
  {
   "cell_type": "code",
   "execution_count": 36,
   "id": "73be6f25-e9c1-4cc6-b6d3-66fe708d3c31",
   "metadata": {
    "execution": {
     "iopub.execute_input": "2024-11-12T07:36:40.129232Z",
     "iopub.status.busy": "2024-11-12T07:36:40.129161Z",
     "iopub.status.idle": "2024-11-12T07:36:40.130514Z",
     "shell.execute_reply": "2024-11-12T07:36:40.130348Z",
     "shell.execute_reply.started": "2024-11-12T07:36:40.129225Z"
    },
    "tags": []
   },
   "outputs": [],
   "source": [
    "a, b, c = sp.symbols('a, b, c')"
   ]
  },
  {
   "cell_type": "code",
   "execution_count": 37,
   "id": "a0c7cc2a-e438-4f77-9909-198c6477f5ad",
   "metadata": {
    "execution": {
     "iopub.execute_input": "2024-11-12T07:36:40.130838Z",
     "iopub.status.busy": "2024-11-12T07:36:40.130764Z",
     "iopub.status.idle": "2024-11-12T07:36:40.139175Z",
     "shell.execute_reply": "2024-11-12T07:36:40.138899Z",
     "shell.execute_reply.started": "2024-11-12T07:36:40.130831Z"
    },
    "tags": []
   },
   "outputs": [
    {
     "data": {
      "image/png": "[encoded data removed]",
      "text/latex": [
       "$\\displaystyle c$"
      ],
      "text/plain": [
       "c"
      ]
     },
     "metadata": {},
     "output_type": "display_data"
    },
    {
     "data": {
      "image/png": "[encoded data removed]",
      "text/latex": [
       "$\\displaystyle c$"
      ],
      "text/plain": [
       "c"
      ]
     },
     "metadata": {},
     "output_type": "display_data"
    }
   ],
   "source": [
    "display(sp.gcd(a*c, b*c))\n",
    "display(c * sp.gcd(a, b))"
   ]
  },
  {
   "cell_type": "code",
   "execution_count": 38,
   "id": "1c9f1900-ba9b-4e09-9f86-ff569ab8ac2e",
   "metadata": {
    "execution": {
     "iopub.execute_input": "2024-11-12T07:36:40.139554Z",
     "iopub.status.busy": "2024-11-12T07:36:40.139479Z",
     "iopub.status.idle": "2024-11-12T07:36:40.146311Z",
     "shell.execute_reply": "2024-11-12T07:36:40.146067Z",
     "shell.execute_reply.started": "2024-11-12T07:36:40.139546Z"
    },
    "tags": []
   },
   "outputs": [
    {
     "data": {
      "image/png": "[encoded data removed]",
      "text/latex": [
       "$\\displaystyle 9$"
      ],
      "text/plain": [
       "9"
      ]
     },
     "metadata": {},
     "output_type": "display_data"
    },
    {
     "data": {
      "image/png": "[encoded data removed]",
      "text/latex": [
       "$\\displaystyle 9$"
      ],
      "text/plain": [
       "9"
      ]
     },
     "metadata": {},
     "output_type": "display_data"
    }
   ],
   "source": [
    "a = 15\n",
    "b = 6\n",
    "c = 3\n",
    "\n",
    "display(math.gcd(a*c, b*c))\n",
    "display(c * math.gcd(a, b))"
   ]
  },
  {
   "cell_type": "markdown",
   "id": "2f2bd467-bc97-4f98-934b-11939067e464",
   "metadata": {},
   "source": [
    "##### Exercise 2"
   ]
  },
  {
   "cell_type": "code",
   "execution_count": 39,
   "id": "7531d763-13cc-4be7-8d2b-6c26ba45a41f",
   "metadata": {
    "execution": {
     "iopub.execute_input": "2024-11-12T07:36:40.146695Z",
     "iopub.status.busy": "2024-11-12T07:36:40.146624Z",
     "iopub.status.idle": "2024-11-12T07:36:40.148699Z",
     "shell.execute_reply": "2024-11-12T07:36:40.148531Z",
     "shell.execute_reply.started": "2024-11-12T07:36:40.146688Z"
    },
    "tags": []
   },
   "outputs": [
    {
     "data": {
      "text/plain": [
       "array([[99, 99, 99, 99, 99, 99, 99, 99, 99, 99, 99, 99, 99, 99, 99],\n",
       "       [99, 99, 99, 99, 99, 99, 99, 99, 99, 99, 99, 99, 99, 99, 99],\n",
       "       [99, 99, 99, 99, 99, 99, 99, 99, 99, 99, 99, 99, 99, 99, 99],\n",
       "       [99, 99, 99, 99, 99, 99, 99, 99, 99, 99, 99, 99, 99, 99, 99],\n",
       "       [99, 99, 99, 99, 99, 99, 99, 99, 99, 99, 99, 99, 99, 99, 99],\n",
       "       [99, 99, 99, 99, 99, 99, 99, 99, 99, 99, 99, 99, 99, 99, 99],\n",
       "       [99, 99, 99, 99, 99, 99, 99, 99, 99, 99, 99, 99, 99, 99, 99],\n",
       "       [99, 99, 99, 99, 99, 99, 99, 99, 99, 99, 99, 99, 99, 99, 99],\n",
       "       [99, 99, 99, 99, 99, 99, 99, 99, 99, 99, 99, 99, 99, 99, 99],\n",
       "       [99, 99, 99, 99, 99, 99, 99, 99, 99, 99, 99, 99, 99, 99, 99]])"
      ]
     },
     "execution_count": 39,
     "metadata": {},
     "output_type": "execute_result"
    }
   ],
   "source": [
    "A = np.zeros([10, 15], dtype=int)\n",
    "\n",
    "A[:] = 99\n",
    "\n",
    "A"
   ]
  },
  {
   "cell_type": "code",
   "execution_count": 40,
   "id": "7b0bc77f-9049-4c32-b44a-3e6219c081a3",
   "metadata": {
    "execution": {
     "iopub.execute_input": "2024-11-12T07:36:40.149015Z",
     "iopub.status.busy": "2024-11-12T07:36:40.148944Z",
     "iopub.status.idle": "2024-11-12T07:36:40.150718Z",
     "shell.execute_reply": "2024-11-12T07:36:40.150541Z",
     "shell.execute_reply.started": "2024-11-12T07:36:40.149008Z"
    },
    "tags": []
   },
   "outputs": [
    {
     "data": {
      "text/plain": [
       "array([[99, 99, 99, 99, 99, 99, 99, 99, 99, 99, 99, 99, 99, 99, 99],\n",
       "       [99, 99, 99, 99, 99, 99, 99, 99, 99, 99, 99, 99, 99, 99, 99],\n",
       "       [99, 99, 99, 99, 99, 99, 99, 99, 99, 99, 99, 99, 99, 99, 99],\n",
       "       [99, 99, 99, 99, 99, 99, 99, 99, 99, 99, 99, 99, 99, 99, 99],\n",
       "       [99, 99, 99, 99, 99, 99, 99, 99, 99, 99, 99, 99, 99, 99, 99],\n",
       "       [99, 99, 99, 99, 99, 99, 99, 99, 99, 99, 99, 99, 99, 99, 99],\n",
       "       [99, 99, 99, 99, 99, 99, 99, 99, 99, 99, 99, 99, 99, 99, 99],\n",
       "       [99, 99, 99, 99, 99, 99, 99, 99, 99, 99, 99, 99, 99, 99, 99],\n",
       "       [99, 99, 99, 99, 99, 99, 99, 99, 99, 99, 99, 99, 99, 99, 99],\n",
       "       [99, 99, 99, 99, 99, 99, 99, 99, 99, 99, 99, 99, 99, 99, 99]])"
      ]
     },
     "execution_count": 40,
     "metadata": {},
     "output_type": "execute_result"
    }
   ],
   "source": [
    "A.fill(99)\n",
    "\n",
    "A"
   ]
  },
  {
   "cell_type": "code",
   "execution_count": 41,
   "id": "6e3ccc9a-7829-46a0-ab1f-1d1fdae86f22",
   "metadata": {
    "execution": {
     "iopub.execute_input": "2024-11-12T07:36:40.151071Z",
     "iopub.status.busy": "2024-11-12T07:36:40.150999Z",
     "iopub.status.idle": "2024-11-12T07:36:40.155194Z",
     "shell.execute_reply": "2024-11-12T07:36:40.154997Z",
     "shell.execute_reply.started": "2024-11-12T07:36:40.151064Z"
    },
    "tags": []
   },
   "outputs": [
    {
     "data": {
      "text/latex": [
       "$\\displaystyle \\left[\\begin{array}{cccccccccc}1 & 1 & 1 & 1 & 1 & 1 & 1 & 1 & 1 & 1 & 1 & 1 & 1 & 1 & 1\\\\1 & 2 & 1 & 2 & 1 & 2 & 1 & 2 & 1 & 2 & 1 & 2 & 1 & 2 & 1\\\\1 & 1 & 3 & 1 & 1 & 3 & 1 & 1 & 3 & 1 & 1 & 3 & 1 & 1 & 3\\\\1 & 2 & 1 & 4 & 1 & 2 & 1 & 4 & 1 & 2 & 1 & 4 & 1 & 2 & 1\\\\1 & 1 & 1 & 1 & 5 & 1 & 1 & 1 & 1 & 5 & 1 & 1 & 1 & 1 & 5\\\\1 & 2 & 3 & 2 & 1 & 6 & 1 & 2 & 3 & 2 & 1 & 6 & 1 & 2 & 3\\\\1 & 1 & 1 & 1 & 1 & 1 & 7 & 1 & 1 & 1 & 1 & 1 & 1 & 7 & 1\\\\1 & 2 & 1 & 4 & 1 & 2 & 1 & 8 & 1 & 2 & 1 & 4 & 1 & 2 & 1\\\\1 & 1 & 3 & 1 & 1 & 3 & 1 & 1 & 9 & 1 & 1 & 3 & 1 & 1 & 3\\\\1 & 2 & 1 & 2 & 5 & 2 & 1 & 2 & 1 & 10 & 1 & 2 & 1 & 2 & 5\\end{array}\\right]$"
      ],
      "text/plain": [
       "<IPython.core.display.Math object>"
      ]
     },
     "execution_count": 41,
     "metadata": {},
     "output_type": "execute_result"
    }
   ],
   "source": [
    "for row in range(0, 10):\n",
    "    for col in range(0, 15):\n",
    "        A[row, col] = math.gcd(row + 1, col + 1)\n",
    "\n",
    "Math(sp.latex(sp.sympify(A)))"
   ]
  },
  {
   "cell_type": "code",
   "execution_count": 42,
   "id": "511f1537-07bc-42a2-9ac9-8e2ac62ee609",
   "metadata": {
    "execution": {
     "iopub.execute_input": "2024-11-12T07:36:40.155507Z",
     "iopub.status.busy": "2024-11-12T07:36:40.155438Z",
     "iopub.status.idle": "2024-11-12T07:36:40.163344Z",
     "shell.execute_reply": "2024-11-12T07:36:40.163155Z",
     "shell.execute_reply.started": "2024-11-12T07:36:40.155500Z"
    },
    "tags": []
   },
   "outputs": [],
   "source": [
    "import matplotlib.pyplot as plt"
   ]
  },
  {
   "cell_type": "code",
   "execution_count": 43,
   "id": "e9ce9e86-749c-4f71-a2f0-f948626e1f2c",
   "metadata": {
    "execution": {
     "iopub.execute_input": "2024-11-12T07:36:40.163663Z",
     "iopub.status.busy": "2024-11-12T07:36:40.163590Z",
     "iopub.status.idle": "2024-11-12T07:36:40.204604Z",
     "shell.execute_reply": "2024-11-12T07:36:40.204301Z",
     "shell.execute_reply.started": "2024-11-12T07:36:40.163655Z"
    },
    "tags": []
   },
   "outputs": [
    {
     "data": {
      "image/png": "[encoded data removed]",
      "text/plain": [
       "<Figure size 640x480 with 1 Axes>"
      ]
     },
     "metadata": {},
     "output_type": "display_data"
    }
   ],
   "source": [
    "plt.imshow(A)\n",
    "plt.show()"
   ]
  },
  {
   "cell_type": "markdown",
   "id": "fd27571a-90f2-4a28-879e-5655272cf1ce",
   "metadata": {
    "jp-MarkdownHeadingCollapsed": true
   },
   "source": [
    "#### 6. Prime Factorization\n",
    "\n",
    "##### 6.1 Definition \n",
    "\n",
    "- A prime number is an integer divisible only by itself and 1\n",
    "\n",
    "- i.e. $2, 3, 5, 7...$\n",
    "\n",
    "##### 6.2 Factorization\n",
    "\n",
    "- Breaking down a number into prime multiplicands \n",
    "\n",
    "- $8 = 2 \\times 2 \\times 2$\n",
    "\n",
    "- $25 = 5 \\times 5$\n",
    "\n",
    "- $48 = 2 \\times 2 \\times 2 \\times 2 \\times 3$"
   ]
  },
  {
   "cell_type": "code",
   "execution_count": 44,
   "id": "219e24ca-c00e-4dfa-8df7-e0d7cbb21b62",
   "metadata": {
    "execution": {
     "iopub.execute_input": "2024-11-12T07:36:40.205293Z",
     "iopub.status.busy": "2024-11-12T07:36:40.205086Z",
     "iopub.status.idle": "2024-11-12T07:36:40.212970Z",
     "shell.execute_reply": "2024-11-12T07:36:40.212761Z",
     "shell.execute_reply.started": "2024-11-12T07:36:40.205279Z"
    },
    "tags": []
   },
   "outputs": [
    {
     "data": {
      "image/png": "[encoded data removed]",
      "text/latex": [
       "$\\displaystyle \\left\\{ 2 : 4, \\  3 : 1\\right\\}$"
      ],
      "text/plain": [
       "{2: 4, 3: 1}"
      ]
     },
     "execution_count": 44,
     "metadata": {},
     "output_type": "execute_result"
    }
   ],
   "source": [
    "number = 48\n",
    "\n",
    "fact_dict = sp.factorint(number) # four 2s and one 3\n",
    "\n",
    "fact_dict"
   ]
  },
  {
   "cell_type": "markdown",
   "id": "8672c1f9-95b4-4d16-878c-d3526e4f993e",
   "metadata": {},
   "source": [
    "##### Exercise:"
   ]
  },
  {
   "cell_type": "code",
   "execution_count": 45,
   "id": "1f6801d9-be22-489e-be8b-d1cee88be2d2",
   "metadata": {
    "execution": {
     "iopub.execute_input": "2024-11-12T07:36:40.213349Z",
     "iopub.status.busy": "2024-11-12T07:36:40.213266Z",
     "iopub.status.idle": "2024-11-12T07:36:40.215496Z",
     "shell.execute_reply": "2024-11-12T07:36:40.215300Z",
     "shell.execute_reply.started": "2024-11-12T07:36:40.213340Z"
    },
    "tags": []
   },
   "outputs": [
    {
     "name": "stdout",
     "output_type": "stream",
     "text": [
      "2 is a prime number\n",
      "3 is a prime number\n",
      "4 is a composite number with prime factors [2]\n",
      "5 is a prime number\n",
      "6 is a composite number with prime factors [2, 3]\n",
      "7 is a prime number\n",
      "8 is a composite number with prime factors [2]\n",
      "9 is a composite number with prime factors [3]\n",
      "10 is a composite number with prime factors [2, 5]\n",
      "11 is a prime number\n",
      "12 is a composite number with prime factors [2, 3]\n",
      "13 is a prime number\n",
      "14 is a composite number with prime factors [2, 7]\n",
      "15 is a composite number with prime factors [3, 5]\n",
      "16 is a composite number with prime factors [2]\n",
      "17 is a prime number\n",
      "18 is a composite number with prime factors [2, 3]\n",
      "19 is a prime number\n",
      "20 is a composite number with prime factors [2, 5]\n",
      "21 is a composite number with prime factors [3, 7]\n",
      "22 is a composite number with prime factors [2, 11]\n",
      "23 is a prime number\n",
      "24 is a composite number with prime factors [2, 3]\n",
      "25 is a composite number with prime factors [5]\n",
      "26 is a composite number with prime factors [2, 13]\n",
      "27 is a composite number with prime factors [3]\n",
      "28 is a composite number with prime factors [2, 7]\n",
      "29 is a prime number\n",
      "30 is a composite number with prime factors [2, 3, 5]\n",
      "31 is a prime number\n",
      "32 is a composite number with prime factors [2]\n",
      "33 is a composite number with prime factors [3, 11]\n",
      "34 is a composite number with prime factors [2, 17]\n",
      "35 is a composite number with prime factors [5, 7]\n",
      "36 is a composite number with prime factors [2, 3]\n",
      "37 is a prime number\n",
      "38 is a composite number with prime factors [2, 19]\n",
      "39 is a composite number with prime factors [3, 13]\n",
      "40 is a composite number with prime factors [2, 5]\n",
      "41 is a prime number\n",
      "42 is a composite number with prime factors [2, 3, 7]\n",
      "43 is a prime number\n",
      "44 is a composite number with prime factors [2, 11]\n",
      "45 is a composite number with prime factors [3, 5]\n",
      "46 is a composite number with prime factors [2, 23]\n",
      "47 is a prime number\n",
      "48 is a composite number with prime factors [2, 3]\n",
      "49 is a composite number with prime factors [7]\n",
      "50 is a composite number with prime factors [2, 5]\n"
     ]
    }
   ],
   "source": [
    "for num in range(2, 51):\n",
    "    fact_dict = sp.factorint(num)\n",
    "    fact_list = list(fact_dict.keys())\n",
    "\n",
    "    if len(fact_list) == 1 and num == fact_list[0]:\n",
    "        print(f'{num} is a prime number')\n",
    "    else:\n",
    "        print(f'{num} is a composite number with prime factors {fact_list}')"
   ]
  },
  {
   "cell_type": "markdown",
   "id": "bbf5c2a8-0d2c-42e1-805d-eeefbcb920c3",
   "metadata": {
    "jp-MarkdownHeadingCollapsed": true,
    "tags": []
   },
   "source": [
    "#### 7. Solving inequalities"
   ]
  },
  {
   "cell_type": "code",
   "execution_count": 46,
   "id": "c909afd7-d600-4f7c-a36d-2c6f6f136964",
   "metadata": {
    "execution": {
     "iopub.execute_input": "2024-11-12T07:36:40.215862Z",
     "iopub.status.busy": "2024-11-12T07:36:40.215788Z",
     "iopub.status.idle": "2024-11-12T07:36:40.226990Z",
     "shell.execute_reply": "2024-11-12T07:36:40.226785Z",
     "shell.execute_reply.started": "2024-11-12T07:36:40.215855Z"
    },
    "tags": []
   },
   "outputs": [
    {
     "data": {
      "image/png": "[encoded data removed]",
      "text/latex": [
       "$\\displaystyle 2 < x \\wedge x < \\infty$"
      ],
      "text/plain": [
       "2 < x ∧ x < ∞"
      ]
     },
     "execution_count": 46,
     "metadata": {},
     "output_type": "execute_result"
    }
   ],
   "source": [
    "x = sp.symbols('x')\n",
    "\n",
    "expr = 4*x > 8\n",
    "\n",
    "sp.solve(expr) # the symbol between the two answers is called wedge, and it's a conjunction (\"And\")"
   ]
  },
  {
   "cell_type": "code",
   "execution_count": 47,
   "id": "f1936f19-7fe9-4dd1-a61a-2ad74b798f28",
   "metadata": {
    "execution": {
     "iopub.execute_input": "2024-11-12T07:36:40.227361Z",
     "iopub.status.busy": "2024-11-12T07:36:40.227282Z",
     "iopub.status.idle": "2024-11-12T07:36:40.246276Z",
     "shell.execute_reply": "2024-11-12T07:36:40.246073Z",
     "shell.execute_reply.started": "2024-11-12T07:36:40.227353Z"
    },
    "tags": []
   },
   "outputs": [
    {
     "data": {
      "image/png": "[encoded data removed]",
      "text/latex": [
       "$\\displaystyle \\left(-\\infty < x \\wedge x < -3\\right) \\vee \\left(1 < x \\wedge x < \\infty\\right)$"
      ],
      "text/plain": [
       "(-∞ < x ∧ x < -3) ∨ (1 < x ∧ x < ∞)"
      ]
     },
     "execution_count": 47,
     "metadata": {},
     "output_type": "execute_result"
    }
   ],
   "source": [
    "expr = (x-1)*(x+3) > 0\n",
    "\n",
    "sp.solve(expr)"
   ]
  },
  {
   "cell_type": "markdown",
   "id": "d344814d-3e3c-453e-a596-e13b0c7240e2",
   "metadata": {},
   "source": [
    "##### Exercise"
   ]
  },
  {
   "cell_type": "code",
   "execution_count": 48,
   "id": "378bc40c-4b30-483b-ace6-626c78c765ca",
   "metadata": {
    "execution": {
     "iopub.execute_input": "2024-11-12T07:36:40.246645Z",
     "iopub.status.busy": "2024-11-12T07:36:40.246565Z",
     "iopub.status.idle": "2024-11-12T07:36:40.257779Z",
     "shell.execute_reply": "2024-11-12T07:36:40.257519Z",
     "shell.execute_reply.started": "2024-11-12T07:36:40.246636Z"
    },
    "tags": []
   },
   "outputs": [
    {
     "data": {
      "image/png": "[encoded data removed]",
      "text/latex": [
       "$\\displaystyle \\frac{4}{3} - \\frac{x}{6} \\leq \\frac{5 x}{4} - \\frac{1}{2}$"
      ],
      "text/plain": [
       "4   x   5⋅x   1\n",
       "─ - ─ ≤ ─── - ─\n",
       "3   6    4    2"
      ]
     },
     "execution_count": 48,
     "metadata": {},
     "output_type": "execute_result"
    }
   ],
   "source": [
    "ex = 3*x/2 + (4-5*x)/3 <= 2 - 5*(2-x)/4\n",
    "ex"
   ]
  },
  {
   "cell_type": "code",
   "execution_count": 49,
   "id": "47f6df50-74a2-4ce6-ae03-b20cd61d1c51",
   "metadata": {
    "execution": {
     "iopub.execute_input": "2024-11-12T07:36:40.258321Z",
     "iopub.status.busy": "2024-11-12T07:36:40.258188Z",
     "iopub.status.idle": "2024-11-12T07:36:40.271090Z",
     "shell.execute_reply": "2024-11-12T07:36:40.270901Z",
     "shell.execute_reply.started": "2024-11-12T07:36:40.258307Z"
    },
    "tags": []
   },
   "outputs": [
    {
     "data": {
      "image/png": "[encoded data removed]",
      "text/latex": [
       "$\\displaystyle \\frac{22}{17} \\leq x \\wedge x < \\infty$"
      ],
      "text/plain": [
       "22            \n",
       "── ≤ x ∧ x < ∞\n",
       "17            "
      ]
     },
     "execution_count": 49,
     "metadata": {},
     "output_type": "execute_result"
    }
   ],
   "source": [
    "sp.solve(ex)"
   ]
  },
  {
   "cell_type": "markdown",
   "id": "24d94b25-359f-407d-aa16-77fa32fc6c73",
   "metadata": {
    "jp-MarkdownHeadingCollapsed": true
   },
   "source": [
    "#### 8. Polynomials\n",
    "\n",
    "- an expression with numbers that multiply some variable raised to higher powers\n",
    "\n",
    "- i.e.: $$a_0 + a_1x + a_2x^2 + \\cdots + a_nx^n $$\n",
    "\n"
   ]
  },
  {
   "cell_type": "markdown",
   "id": "d86a414f-c32b-4b13-af20-cc48df670816",
   "metadata": {},
   "source": [
    "##### 8.1 Adding and Subtracting Polynomials"
   ]
  },
  {
   "cell_type": "code",
   "execution_count": 50,
   "id": "3f2cccde-c3e9-47af-a324-e76b13f77580",
   "metadata": {
    "execution": {
     "iopub.execute_input": "2024-11-12T07:36:40.271439Z",
     "iopub.status.busy": "2024-11-12T07:36:40.271363Z",
     "iopub.status.idle": "2024-11-12T07:36:40.274563Z",
     "shell.execute_reply": "2024-11-12T07:36:40.274337Z",
     "shell.execute_reply.started": "2024-11-12T07:36:40.271431Z"
    },
    "tags": []
   },
   "outputs": [
    {
     "data": {
      "text/latex": [
       "$\\displaystyle 2 x^{3} + x^{2} - x$"
      ],
      "text/plain": [
       "<IPython.core.display.Math object>"
      ]
     },
     "metadata": {},
     "output_type": "display_data"
    },
    {
     "data": {
      "text/latex": [
       "$\\displaystyle - x^{4} + x^{3} - 4 x^{2}$"
      ],
      "text/plain": [
       "<IPython.core.display.Math object>"
      ]
     },
     "metadata": {},
     "output_type": "display_data"
    }
   ],
   "source": [
    "from sympy.abc import x\n",
    "\n",
    "p1 = 2*x**3 + x**2 - x\n",
    "p2 = x**3 - x**4 - 4*x**2\n",
    "\n",
    "display(Math(sp.latex(p1)))  #SymPy arranges them in order of highest power \n",
    "display(Math(sp.latex(p2)))"
   ]
  },
  {
   "cell_type": "code",
   "execution_count": 51,
   "id": "81dff51b-8f3b-4996-8157-60af03bd1c63",
   "metadata": {
    "execution": {
     "iopub.execute_input": "2024-11-12T07:36:40.274983Z",
     "iopub.status.busy": "2024-11-12T07:36:40.274901Z",
     "iopub.status.idle": "2024-11-12T07:36:40.278672Z",
     "shell.execute_reply": "2024-11-12T07:36:40.278479Z",
     "shell.execute_reply.started": "2024-11-12T07:36:40.274975Z"
    },
    "tags": []
   },
   "outputs": [
    {
     "data": {
      "text/latex": [
       "$\\displaystyle (2 x^{3} + x^{2} - x) + (- x^{4} + x^{3} - 4 x^{2}) = - x^{4} + 3 x^{3} - 3 x^{2} - x$"
      ],
      "text/plain": [
       "<IPython.core.display.Math object>"
      ]
     },
     "metadata": {},
     "output_type": "display_data"
    },
    {
     "data": {
      "text/latex": [
       "$\\displaystyle (2 x^{3} + x^{2} - x) - (- x^{4} + x^{3} - 4 x^{2}) = x^{4} + x^{3} + 5 x^{2} - x$"
      ],
      "text/plain": [
       "<IPython.core.display.Math object>"
      ]
     },
     "metadata": {},
     "output_type": "display_data"
    }
   ],
   "source": [
    "display(Math('(%s) + (%s) = %s' %(sp.latex(p1),sp.latex(p2), sp.latex(p1+p2)) ))\n",
    "display(Math('(%s) - (%s) = %s' %(sp.latex(p1),sp.latex(p2), sp.latex(p1-p2)) ))"
   ]
  },
  {
   "cell_type": "code",
   "execution_count": 52,
   "id": "ed1c217e-044a-412a-8be4-91bdeb054f3f",
   "metadata": {
    "execution": {
     "iopub.execute_input": "2024-11-12T07:36:40.278994Z",
     "iopub.status.busy": "2024-11-12T07:36:40.278921Z",
     "iopub.status.idle": "2024-11-12T07:36:40.281048Z",
     "shell.execute_reply": "2024-11-12T07:36:40.280848Z",
     "shell.execute_reply.started": "2024-11-12T07:36:40.278987Z"
    },
    "tags": []
   },
   "outputs": [
    {
     "name": "stdout",
     "output_type": "stream",
     "text": [
      "Poly(2*x**3 + x**2 - x, x, domain='ZZ')\n"
     ]
    }
   ],
   "source": [
    "p1 = sp.Poly(2*x**3 + x**2 - x)\n",
    "\n",
    "print(p1)"
   ]
  },
  {
   "cell_type": "code",
   "execution_count": 53,
   "id": "d4b0668a-93ae-45e4-8347-b6adaf59de5b",
   "metadata": {
    "execution": {
     "iopub.execute_input": "2024-11-12T07:36:40.281380Z",
     "iopub.status.busy": "2024-11-12T07:36:40.281308Z",
     "iopub.status.idle": "2024-11-12T07:36:40.286447Z",
     "shell.execute_reply": "2024-11-12T07:36:40.286252Z",
     "shell.execute_reply.started": "2024-11-12T07:36:40.281372Z"
    },
    "tags": []
   },
   "outputs": [
    {
     "data": {
      "image/png": "[encoded data removed]",
      "text/latex": [
       "$\\displaystyle 18$"
      ],
      "text/plain": [
       "18"
      ]
     },
     "execution_count": 53,
     "metadata": {},
     "output_type": "execute_result"
    }
   ],
   "source": [
    "p1.eval(2)  # substitutes x with the given number and calculates"
   ]
  },
  {
   "cell_type": "code",
   "execution_count": 54,
   "id": "02f63f65-10b4-458e-b133-a8d9cfa808fa",
   "metadata": {
    "execution": {
     "iopub.execute_input": "2024-11-12T07:36:40.286815Z",
     "iopub.status.busy": "2024-11-12T07:36:40.286734Z",
     "iopub.status.idle": "2024-11-12T07:36:40.292957Z",
     "shell.execute_reply": "2024-11-12T07:36:40.292756Z",
     "shell.execute_reply.started": "2024-11-12T07:36:40.286807Z"
    },
    "tags": []
   },
   "outputs": [
    {
     "data": {
      "image/png": "[encoded data removed]",
      "text/latex": [
       "$\\displaystyle \\left[ 2, \\  1, \\  -1\\right]$"
      ],
      "text/plain": [
       "[2, 1, -1]"
      ]
     },
     "execution_count": 54,
     "metadata": {},
     "output_type": "execute_result"
    }
   ],
   "source": [
    "p1.coeffs()  # returns the coefficients of the polynomial, largest first"
   ]
  },
  {
   "cell_type": "markdown",
   "id": "591868fc-1636-49a1-9c2b-201c76289baf",
   "metadata": {},
   "source": [
    "##### Exercise"
   ]
  },
  {
   "cell_type": "code",
   "execution_count": 55,
   "id": "b13b3c27-1cf1-4595-a880-96f4358a43ae",
   "metadata": {
    "execution": {
     "iopub.execute_input": "2024-11-12T07:36:40.293317Z",
     "iopub.status.busy": "2024-11-12T07:36:40.293242Z",
     "iopub.status.idle": "2024-11-12T07:36:40.322486Z",
     "shell.execute_reply": "2024-11-12T07:36:40.322273Z",
     "shell.execute_reply.started": "2024-11-12T07:36:40.293309Z"
    },
    "tags": []
   },
   "outputs": [
    {
     "data": {
      "image/png": "[encoded data removed]",
      "text/latex": [
       "$\\displaystyle \\left[ \\operatorname{Poly}{\\left( x^{2} + 2 x, x, domain=\\mathbb{Z} \\right)}, \\  \\operatorname{Poly}{\\left( -x^{3} + 4 x, x, domain=\\mathbb{Z} \\right)}, \\  \\operatorname{Poly}{\\left( x^{5} - x^{4} + \\frac{1}{4} x + 4, x, domain=\\mathbb{Q} \\right)}\\right]$"
      ],
      "text/plain": [
       "[Poly(x**2 + 2*x, x, domain='ZZ'), Poly(-x**3 + 4*x, x, domain='ZZ'), Poly(x** ↪\n",
       "\n",
       "↪ 5 - x**4 + 1/4*x + 4, x, domain='QQ')]"
      ]
     },
     "execution_count": 55,
     "metadata": {},
     "output_type": "execute_result"
    }
   ],
   "source": [
    "poly_list = [\n",
    "    sp.Poly(x**2 + 2*x), \n",
    "    sp.Poly(-x**3 + 4*x), \n",
    "    sp.Poly(x**5 - x**4 + x/4 + 4)]\n",
    "\n",
    "poly_list"
   ]
  },
  {
   "cell_type": "code",
   "execution_count": 56,
   "id": "2a59c371-3441-4de1-bf77-d43fbf6268ed",
   "metadata": {
    "execution": {
     "iopub.execute_input": "2024-11-12T07:36:40.322876Z",
     "iopub.status.busy": "2024-11-12T07:36:40.322798Z",
     "iopub.status.idle": "2024-11-12T07:36:40.325420Z",
     "shell.execute_reply": "2024-11-12T07:36:40.325215Z",
     "shell.execute_reply.started": "2024-11-12T07:36:40.322868Z"
    },
    "tags": []
   },
   "outputs": [
    {
     "name": "stdout",
     "output_type": "stream",
     "text": [
      "The degree of x**2 + 2*x is even, and the coefficients sum to 3.\n",
      "The degree of -x**3 + 4*x is odd, and there are 2 coefficients.\n",
      "The degree of x**5 - x**4 + x/4 + 4 is odd, and there are 4 coefficients.\n"
     ]
    }
   ],
   "source": [
    "# If degree is even, sum the coeffs, if odd, count the coeffs\n",
    "\n",
    "for poly in poly_list:\n",
    "    if sp.degree(poly) % 2 == 0:\n",
    "        print('The degree of %s is even, and the coefficients sum to %g.' \n",
    "              %(poly.as_expr(), sum(poly.coeffs())))\n",
    "    else:\n",
    "        print('The degree of %s is odd, and there are %g coefficients.' %(poly.as_expr(), len(poly.coeffs())))"
   ]
  },
  {
   "cell_type": "markdown",
   "id": "4ed183e4-270b-4e99-a096-c9882e4fd17e",
   "metadata": {},
   "source": [
    "##### 8.2 Multiplying polynomials\n",
    "\n",
    "- $y^a \\cdot x^a \\cdot x^b = y^a \\cdot x^{a+b}$"
   ]
  },
  {
   "cell_type": "code",
   "execution_count": 57,
   "id": "b4abfea2-9627-4a22-b570-f4e981738ca8",
   "metadata": {
    "execution": {
     "iopub.execute_input": "2024-11-12T07:36:40.325826Z",
     "iopub.status.busy": "2024-11-12T07:36:40.325743Z",
     "iopub.status.idle": "2024-11-12T07:36:40.330992Z",
     "shell.execute_reply": "2024-11-12T07:36:40.330811Z",
     "shell.execute_reply.started": "2024-11-12T07:36:40.325818Z"
    },
    "tags": []
   },
   "outputs": [
    {
     "data": {
      "image/png": "[encoded data removed]",
      "text/latex": [
       "$\\displaystyle x^{8}$"
      ],
      "text/plain": [
       " 8\n",
       "x "
      ]
     },
     "execution_count": 57,
     "metadata": {},
     "output_type": "execute_result"
    }
   ],
   "source": [
    "x = sp.symbols('x')\n",
    "\n",
    "x**5 * x**3"
   ]
  },
  {
   "cell_type": "code",
   "execution_count": 58,
   "id": "5c4bd35d-e813-4008-a0ef-0d50b2476e72",
   "metadata": {
    "execution": {
     "iopub.execute_input": "2024-11-12T07:36:40.331381Z",
     "iopub.status.busy": "2024-11-12T07:36:40.331309Z",
     "iopub.status.idle": "2024-11-12T07:36:40.342100Z",
     "shell.execute_reply": "2024-11-12T07:36:40.341903Z",
     "shell.execute_reply.started": "2024-11-12T07:36:40.331374Z"
    },
    "tags": []
   },
   "outputs": [
    {
     "data": {
      "image/png": "[encoded data removed]",
      "text/latex": [
       "$\\displaystyle \\left(4 x^{2} - 2 x\\right) \\left(x^{3} - 1\\right)$"
      ],
      "text/plain": [
       "⎛   2      ⎞ ⎛ 3    ⎞\n",
       "⎝4⋅x  - 2⋅x⎠⋅⎝x  - 1⎠"
      ]
     },
     "execution_count": 58,
     "metadata": {},
     "output_type": "execute_result"
    }
   ],
   "source": [
    "p1 = 4*x**2 - 2*x\n",
    "p2 = x**3 - 1\n",
    "\n",
    "p1*p2 # sympy doesn't expand them automatically"
   ]
  },
  {
   "cell_type": "code",
   "execution_count": 59,
   "id": "3ed67eb6-bd9d-46e8-8853-fcf735406795",
   "metadata": {
    "execution": {
     "iopub.execute_input": "2024-11-12T07:36:40.342499Z",
     "iopub.status.busy": "2024-11-12T07:36:40.342420Z",
     "iopub.status.idle": "2024-11-12T07:36:40.352772Z",
     "shell.execute_reply": "2024-11-12T07:36:40.352559Z",
     "shell.execute_reply.started": "2024-11-12T07:36:40.342491Z"
    },
    "tags": []
   },
   "outputs": [
    {
     "data": {
      "image/png": "[encoded data removed]",
      "text/latex": [
       "$\\displaystyle 4 x^{5} - 2 x^{4} - 4 x^{2} + 2 x$"
      ],
      "text/plain": [
       "   5      4      2      \n",
       "4⋅x  - 2⋅x  - 4⋅x  + 2⋅x"
      ]
     },
     "execution_count": 59,
     "metadata": {},
     "output_type": "execute_result"
    }
   ],
   "source": [
    "sp.expand(p1*p2)"
   ]
  },
  {
   "cell_type": "markdown",
   "id": "077123ea-730a-401f-a5db-a4c9433e00cb",
   "metadata": {},
   "source": [
    "##### Exercise"
   ]
  },
  {
   "cell_type": "code",
   "execution_count": 60,
   "id": "f53f966b-9abd-4f5a-b9a2-1e13bc656a5d",
   "metadata": {
    "execution": {
     "iopub.execute_input": "2024-11-12T07:36:40.353164Z",
     "iopub.status.busy": "2024-11-12T07:36:40.353061Z",
     "iopub.status.idle": "2024-11-12T07:36:40.355181Z",
     "shell.execute_reply": "2024-11-12T07:36:40.354370Z",
     "shell.execute_reply.started": "2024-11-12T07:36:40.353156Z"
    },
    "tags": []
   },
   "outputs": [],
   "source": [
    "x, y = sp.symbols('x, y')"
   ]
  },
  {
   "cell_type": "code",
   "execution_count": 61,
   "id": "9d8e63f2-dc37-4f8d-a6b9-1c4f80267703",
   "metadata": {
    "execution": {
     "iopub.execute_input": "2024-11-12T07:36:40.355606Z",
     "iopub.status.busy": "2024-11-12T07:36:40.355520Z",
     "iopub.status.idle": "2024-11-12T07:36:40.375968Z",
     "shell.execute_reply": "2024-11-12T07:36:40.375766Z",
     "shell.execute_reply.started": "2024-11-12T07:36:40.355598Z"
    },
    "tags": []
   },
   "outputs": [
    {
     "data": {
      "image/png": "[encoded data removed]",
      "text/latex": [
       "$\\displaystyle 4 x^{4} - 3 x^{2} + x y^{2} - 9 y^{3}$"
      ],
      "text/plain": [
       "   4      2      2      3\n",
       "4⋅x  - 3⋅x  + x⋅y  - 9⋅y "
      ]
     },
     "metadata": {},
     "output_type": "display_data"
    },
    {
     "data": {
      "image/png": "[encoded data removed]",
      "text/latex": [
       "$\\displaystyle - x^{3} + 6 x^{2} y + 0.8 y^{3}$"
      ],
      "text/plain": [
       "   3      2          3\n",
       "- x  + 6⋅x ⋅y + 0.8⋅y "
      ]
     },
     "metadata": {},
     "output_type": "display_data"
    }
   ],
   "source": [
    "fxy = 4*x**4 - 3*x**2 + x*y**2 - 9*y**3\n",
    "gxy = -x**3 + 6*x**2*y + 0.8*y**3\n",
    "\n",
    "display(fxy)\n",
    "display(gxy)"
   ]
  },
  {
   "cell_type": "code",
   "execution_count": 62,
   "id": "b05e1306-f7df-49cc-b2da-f24e79711d05",
   "metadata": {
    "execution": {
     "iopub.execute_input": "2024-11-12T07:36:40.376372Z",
     "iopub.status.busy": "2024-11-12T07:36:40.376288Z",
     "iopub.status.idle": "2024-11-12T07:36:40.408363Z",
     "shell.execute_reply": "2024-11-12T07:36:40.408160Z",
     "shell.execute_reply.started": "2024-11-12T07:36:40.376363Z"
    },
    "tags": []
   },
   "outputs": [
    {
     "data": {
      "image/png": "[encoded data removed]",
      "text/latex": [
       "$\\displaystyle - 4 x^{7} + 24 x^{6} y + 3 x^{5} + 3.2 x^{4} y^{3} - x^{4} y^{2} - 18 x^{4} y + 15 x^{3} y^{3} - 54 x^{2} y^{4} - 2.4 x^{2} y^{3} + 0.8 x y^{5} - 7.2 y^{6}$"
      ],
      "text/plain": [
       "     7       6        5        4  3    4  2       4         3  3       2  4    ↪\n",
       "- 4⋅x  + 24⋅x ⋅y + 3⋅x  + 3.2⋅x ⋅y  - x ⋅y  - 18⋅x ⋅y + 15⋅x ⋅y  - 54⋅x ⋅y  -  ↪\n",
       "\n",
       "↪      2  3          5        6\n",
       "↪ 2.4⋅x ⋅y  + 0.8⋅x⋅y  - 7.2⋅y "
      ]
     },
     "execution_count": 62,
     "metadata": {},
     "output_type": "execute_result"
    }
   ],
   "source": [
    "# Multiply equations and substitute x and y in the product\n",
    "\n",
    "fgxy = sp.expand(fxy * gxy)\n",
    "fgxy"
   ]
  },
  {
   "cell_type": "code",
   "execution_count": 63,
   "id": "67d90e10-80c2-4a99-a5aa-afaa0c3dcc8e",
   "metadata": {
    "execution": {
     "iopub.execute_input": "2024-11-12T07:36:40.408733Z",
     "iopub.status.busy": "2024-11-12T07:36:40.408657Z",
     "iopub.status.idle": "2024-11-12T07:36:40.416200Z",
     "shell.execute_reply": "2024-11-12T07:36:40.415995Z",
     "shell.execute_reply.started": "2024-11-12T07:36:40.408725Z"
    },
    "tags": []
   },
   "outputs": [
    {
     "data": {
      "image/png": "[encoded data removed]",
      "text/latex": [
       "$\\displaystyle -1085833.8$"
      ],
      "text/plain": [
       "-1085833.80000000"
      ]
     },
     "execution_count": 63,
     "metadata": {},
     "output_type": "execute_result"
    }
   ],
   "source": [
    "xval = 5\n",
    "yval = -2\n",
    "\n",
    "fgxy = (fxy*gxy).subs({x: xval, y: yval})\n",
    "fgxy"
   ]
  },
  {
   "cell_type": "code",
   "execution_count": 64,
   "id": "14a40084-0398-4f36-bda4-1933ec39acd8",
   "metadata": {
    "execution": {
     "iopub.execute_input": "2024-11-12T07:36:40.416564Z",
     "iopub.status.busy": "2024-11-12T07:36:40.416487Z",
     "iopub.status.idle": "2024-11-12T07:36:40.425824Z",
     "shell.execute_reply": "2024-11-12T07:36:40.425641Z",
     "shell.execute_reply.started": "2024-11-12T07:36:40.416555Z"
    },
    "tags": []
   },
   "outputs": [
    {
     "data": {
      "image/png": "[encoded data removed]",
      "text/latex": [
       "$\\displaystyle 2517$"
      ],
      "text/plain": [
       "2517"
      ]
     },
     "metadata": {},
     "output_type": "display_data"
    },
    {
     "data": {
      "image/png": "[encoded data removed]",
      "text/latex": [
       "$\\displaystyle -431.4$"
      ],
      "text/plain": [
       "-431.400000000000"
      ]
     },
     "metadata": {},
     "output_type": "display_data"
    }
   ],
   "source": [
    "# Substitute and then multiply the two equations\n",
    "\n",
    "fxy_sub = fxy.subs({x: xval, y: yval})\n",
    "gxy_sub = gxy.subs({x: xval, y: yval})\n",
    "\n",
    "display(fxy_sub)\n",
    "display(gxy_sub)"
   ]
  },
  {
   "cell_type": "code",
   "execution_count": 65,
   "id": "9f759440-6783-4dd7-b28b-afdaaaa8932b",
   "metadata": {
    "execution": {
     "iopub.execute_input": "2024-11-12T07:36:40.426158Z",
     "iopub.status.busy": "2024-11-12T07:36:40.426086Z",
     "iopub.status.idle": "2024-11-12T07:36:40.432699Z",
     "shell.execute_reply": "2024-11-12T07:36:40.432515Z",
     "shell.execute_reply.started": "2024-11-12T07:36:40.426150Z"
    },
    "tags": []
   },
   "outputs": [
    {
     "data": {
      "image/png": "[encoded data removed]",
      "text/latex": [
       "$\\displaystyle -1085833.8$"
      ],
      "text/plain": [
       "-1085833.80000000"
      ]
     },
     "execution_count": 65,
     "metadata": {},
     "output_type": "execute_result"
    }
   ],
   "source": [
    "fxy_sub * gxy_sub # Same result as in the previous operation"
   ]
  },
  {
   "cell_type": "markdown",
   "id": "77ebc8c5-23fc-4b19-857b-424234b69d19",
   "metadata": {},
   "source": [
    "##### 8.3 Dividing polynomials\n",
    "\n",
    "- $y^a \\div x^a \\div x^b = y^a \\div x^{a-b}$"
   ]
  },
  {
   "cell_type": "code",
   "execution_count": 66,
   "id": "516d1220-4b9f-4afa-af0d-f8b81f153abe",
   "metadata": {
    "execution": {
     "iopub.execute_input": "2024-11-12T07:36:40.434905Z",
     "iopub.status.busy": "2024-11-12T07:36:40.434720Z",
     "iopub.status.idle": "2024-11-12T07:36:40.446732Z",
     "shell.execute_reply": "2024-11-12T07:36:40.446515Z",
     "shell.execute_reply.started": "2024-11-12T07:36:40.434896Z"
    },
    "tags": []
   },
   "outputs": [
    {
     "data": {
      "text/latex": [
       "$\\displaystyle \\frac{4 x^{5} - x}{2 x^{3} - x} = \\frac{4 x^{5}}{2 x^{3} - x} - \\frac{x}{2 x^{3} - x}$"
      ],
      "text/plain": [
       "<IPython.core.display.Math object>"
      ]
     },
     "metadata": {},
     "output_type": "display_data"
    },
    {
     "data": {
      "text/latex": [
       "$\\displaystyle \\frac{4 x^{5} - x}{2 x^{3} - x} = 2 x^{2} + 1$"
      ],
      "text/plain": [
       "<IPython.core.display.Math object>"
      ]
     },
     "metadata": {},
     "output_type": "display_data"
    }
   ],
   "source": [
    "p1 = 4*x**5 - x\n",
    "p2 = 2*x**3 - x\n",
    "\n",
    "display(Math('\\\\frac{%s}{%s} = %s' %(sp.latex(p1), sp.latex(p2), sp.latex(sp.expand(p1/p2)))))\n",
    "display(Math('\\\\frac{%s}{%s} = %s' %(sp.latex(p1), sp.latex(p2), sp.latex(sp.simplify(p1/p2)))))"
   ]
  },
  {
   "cell_type": "markdown",
   "id": "46209196-6fcc-4746-8a44-7ed3044720cf",
   "metadata": {},
   "source": [
    "##### Exercise"
   ]
  },
  {
   "cell_type": "code",
   "execution_count": 67,
   "id": "3da6dab0-7504-4eb5-90af-c055cf9c5e07",
   "metadata": {
    "execution": {
     "iopub.execute_input": "2024-11-12T07:36:40.447108Z",
     "iopub.status.busy": "2024-11-12T07:36:40.447027Z",
     "iopub.status.idle": "2024-11-12T07:36:40.448826Z",
     "shell.execute_reply": "2024-11-12T07:36:40.448609Z",
     "shell.execute_reply.started": "2024-11-12T07:36:40.447100Z"
    },
    "tags": []
   },
   "outputs": [],
   "source": [
    "# Find which y value eliminates the denominator\n",
    "\n",
    "x, y = sp.symbols('x, y')\n",
    "\n",
    "p_num = x**6 + 2*x**4 + 6*x - y\n",
    "p_den = x**3 + 3"
   ]
  },
  {
   "cell_type": "code",
   "execution_count": 68,
   "id": "49f37776-b30e-4c15-a935-e29ae3f13ab0",
   "metadata": {
    "execution": {
     "iopub.execute_input": "2024-11-12T07:36:40.449169Z",
     "iopub.status.busy": "2024-11-12T07:36:40.449095Z",
     "iopub.status.idle": "2024-11-12T07:36:40.615190Z",
     "shell.execute_reply": "2024-11-12T07:36:40.614897Z",
     "shell.execute_reply.started": "2024-11-12T07:36:40.449161Z"
    },
    "tags": []
   },
   "outputs": [
    {
     "data": {
      "text/latex": [
       "$\\displaystyle \\frac{x^{6} + 2 x^{4} + 6 x - 5}{x^{3} + 3} = \\frac{x^{6} + 2 x^{4} + 6 x - 5}{x^{3} + 3}$"
      ],
      "text/plain": [
       "<IPython.core.display.Math object>"
      ]
     },
     "metadata": {},
     "output_type": "display_data"
    },
    {
     "data": {
      "text/latex": [
       "$\\displaystyle \\frac{x^{6} + 2 x^{4} + 6 x - 6}{x^{3} + 3} = \\frac{x^{6} + 2 x^{4} + 6 x - 6}{x^{3} + 3}$"
      ],
      "text/plain": [
       "<IPython.core.display.Math object>"
      ]
     },
     "metadata": {},
     "output_type": "display_data"
    },
    {
     "data": {
      "text/latex": [
       "$\\displaystyle \\frac{x^{6} + 2 x^{4} + 6 x - 7}{x^{3} + 3} = \\frac{x^{6} + 2 x^{4} + 6 x - 7}{x^{3} + 3}$"
      ],
      "text/plain": [
       "<IPython.core.display.Math object>"
      ]
     },
     "metadata": {},
     "output_type": "display_data"
    },
    {
     "data": {
      "text/latex": [
       "$\\displaystyle \\frac{x^{6} + 2 x^{4} + 6 x - 8}{x^{3} + 3} = \\frac{x^{6} + 2 x^{4} + 6 x - 8}{x^{3} + 3}$"
      ],
      "text/plain": [
       "<IPython.core.display.Math object>"
      ]
     },
     "metadata": {},
     "output_type": "display_data"
    },
    {
     "data": {
      "text/latex": [
       "$\\displaystyle \\frac{x^{6} + 2 x^{4} + 6 x - 9}{x^{3} + 3} = x^{3} + 2 x - 3$"
      ],
      "text/plain": [
       "<IPython.core.display.Math object>"
      ]
     },
     "metadata": {},
     "output_type": "display_data"
    },
    {
     "data": {
      "text/latex": [
       "$\\displaystyle \\frac{x^{6} + 2 x^{4} + 6 x - 10}{x^{3} + 3} = \\frac{x^{6} + 2 x^{4} + 6 x - 10}{x^{3} + 3}$"
      ],
      "text/plain": [
       "<IPython.core.display.Math object>"
      ]
     },
     "metadata": {},
     "output_type": "display_data"
    },
    {
     "data": {
      "text/latex": [
       "$\\displaystyle \\frac{x^{6} + 2 x^{4} + 6 x - 11}{x^{3} + 3} = \\frac{x^{6} + 2 x^{4} + 6 x - 11}{x^{3} + 3}$"
      ],
      "text/plain": [
       "<IPython.core.display.Math object>"
      ]
     },
     "metadata": {},
     "output_type": "display_data"
    },
    {
     "data": {
      "text/latex": [
       "$\\displaystyle \\frac{x^{6} + 2 x^{4} + 6 x - 12}{x^{3} + 3} = \\frac{x^{6} + 2 x^{4} + 6 x - 12}{x^{3} + 3}$"
      ],
      "text/plain": [
       "<IPython.core.display.Math object>"
      ]
     },
     "metadata": {},
     "output_type": "display_data"
    },
    {
     "data": {
      "text/latex": [
       "$\\displaystyle \\frac{x^{6} + 2 x^{4} + 6 x - 13}{x^{3} + 3} = \\frac{x^{6} + 2 x^{4} + 6 x - 13}{x^{3} + 3}$"
      ],
      "text/plain": [
       "<IPython.core.display.Math object>"
      ]
     },
     "metadata": {},
     "output_type": "display_data"
    },
    {
     "data": {
      "text/latex": [
       "$\\displaystyle \\frac{x^{6} + 2 x^{4} + 6 x - 14}{x^{3} + 3} = \\frac{x^{6} + 2 x^{4} + 6 x - 14}{x^{3} + 3}$"
      ],
      "text/plain": [
       "<IPython.core.display.Math object>"
      ]
     },
     "metadata": {},
     "output_type": "display_data"
    },
    {
     "data": {
      "text/latex": [
       "$\\displaystyle \\frac{x^{6} + 2 x^{4} + 6 x - 15}{x^{3} + 3} = \\frac{x^{6} + 2 x^{4} + 6 x - 15}{x^{3} + 3}$"
      ],
      "text/plain": [
       "<IPython.core.display.Math object>"
      ]
     },
     "metadata": {},
     "output_type": "display_data"
    },
    {
     "name": "stdout",
     "output_type": "stream",
     "text": [
      "The answer that satisfies our goal is y = 9\n"
     ]
    }
   ],
   "source": [
    "for yi in range(5, 16):\n",
    "    temp_num = p_num.subs(y, yi)\n",
    "    display(Math('%s = %s' %(sp.latex(temp_num/p_den), sp.latex(sp.simplify(temp_num/p_den)))))\n",
    "\n",
    "    if sp.fraction(sp.simplify(temp_num/p_den))[1] == 1:\n",
    "        right_answer = yi\n",
    "\n",
    "print('The answer that satisfies our goal is y = %g' %right_answer)"
   ]
  },
  {
   "cell_type": "markdown",
   "id": "e493627f-d3af-4bb1-9ef3-eaf54b5e3d06",
   "metadata": {},
   "source": [
    "##### 8.4 Factoring polynomials\n",
    "\n",
    "- factoring numbers: $16 = 2 \\times 8 = 2 \\times 4 \\times 2 = 2 \\times 2 \\times 2 \\times 2$\n",
    "\n",
    "- $x^2 + 4x + 3 = (x + 1)(x + 3)$"
   ]
  },
  {
   "cell_type": "code",
   "execution_count": 69,
   "id": "5ad00a8d-7cb3-4e89-afe7-fa90f482a754",
   "metadata": {
    "execution": {
     "iopub.execute_input": "2024-11-12T07:36:40.615603Z",
     "iopub.status.busy": "2024-11-12T07:36:40.615517Z",
     "iopub.status.idle": "2024-11-12T07:36:40.629242Z",
     "shell.execute_reply": "2024-11-12T07:36:40.629062Z",
     "shell.execute_reply.started": "2024-11-12T07:36:40.615594Z"
    },
    "tags": []
   },
   "outputs": [
    {
     "data": {
      "image/png": "[encoded data removed]",
      "text/latex": [
       "$\\displaystyle x^{2} + 4 x + 3$"
      ],
      "text/plain": [
       " 2          \n",
       "x  + 4⋅x + 3"
      ]
     },
     "metadata": {},
     "output_type": "display_data"
    },
    {
     "data": {
      "image/png": "[encoded data removed]",
      "text/latex": [
       "$\\displaystyle \\left(x + 1\\right) \\left(x + 3\\right)$"
      ],
      "text/plain": [
       "(x + 1)⋅(x + 3)"
      ]
     },
     "metadata": {},
     "output_type": "display_data"
    }
   ],
   "source": [
    "x, y = sp.symbols('x, y')\n",
    "\n",
    "p = x**2 + 4*x + 3\n",
    "\n",
    "display(p)\n",
    "display(sp.factor(p))"
   ]
  },
  {
   "cell_type": "code",
   "execution_count": 70,
   "id": "bc7f8466-a362-4f80-9d39-1c9ced503e70",
   "metadata": {
    "execution": {
     "iopub.execute_input": "2024-11-12T07:36:40.629585Z",
     "iopub.status.busy": "2024-11-12T07:36:40.629514Z",
     "iopub.status.idle": "2024-11-12T07:36:40.651525Z",
     "shell.execute_reply": "2024-11-12T07:36:40.651342Z",
     "shell.execute_reply.started": "2024-11-12T07:36:40.629578Z"
    },
    "tags": []
   },
   "outputs": [
    {
     "data": {
      "image/png": "[encoded data removed]",
      "text/latex": [
       "$\\displaystyle 2 x^{3} y + 2 x^{2} y + 4 x^{2} - 6 x y + 6 x$"
      ],
      "text/plain": [
       "   3        2        2              \n",
       "2⋅x ⋅y + 2⋅x ⋅y + 4⋅x  - 6⋅x⋅y + 6⋅x"
      ]
     },
     "metadata": {},
     "output_type": "display_data"
    },
    {
     "data": {
      "image/png": "[encoded data removed]",
      "text/latex": [
       "$\\displaystyle 2 x \\left(x^{2} y + x y + 2 x - 3 y + 3\\right)$"
      ],
      "text/plain": [
       "    ⎛ 2                        ⎞\n",
       "2⋅x⋅⎝x ⋅y + x⋅y + 2⋅x - 3⋅y + 3⎠"
      ]
     },
     "metadata": {},
     "output_type": "display_data"
    }
   ],
   "source": [
    "expr = 2*x**3*y - 2*x**2 + 2*x**2*y + 6*x**2 - 6*x*y + 6*x\n",
    "\n",
    "display(expr)\n",
    "display(sp.factor(expr))"
   ]
  },
  {
   "cell_type": "markdown",
   "id": "2c4227e4-1884-4632-ad8a-b45456253ffa",
   "metadata": {},
   "source": [
    "##### Exercise"
   ]
  },
  {
   "cell_type": "code",
   "execution_count": 71,
   "id": "670dab37-195e-427a-a8a8-de810c9810f3",
   "metadata": {
    "execution": {
     "iopub.execute_input": "2024-11-12T07:36:40.651870Z",
     "iopub.status.busy": "2024-11-12T07:36:40.651794Z",
     "iopub.status.idle": "2024-11-12T07:36:40.668407Z",
     "shell.execute_reply": "2024-11-12T07:36:40.668210Z",
     "shell.execute_reply.started": "2024-11-12T07:36:40.651862Z"
    },
    "tags": []
   },
   "outputs": [
    {
     "data": {
      "image/png": "[encoded data removed]",
      "text/latex": [
       "$\\displaystyle x^{2} + 4 x + 3$"
      ],
      "text/plain": [
       " 2          \n",
       "x  + 4⋅x + 3"
      ]
     },
     "metadata": {},
     "output_type": "display_data"
    },
    {
     "data": {
      "image/png": "[encoded data removed]",
      "text/latex": [
       "$\\displaystyle 2 y^{2} - 1$"
      ],
      "text/plain": [
       "   2    \n",
       "2⋅y  - 1"
      ]
     },
     "metadata": {},
     "output_type": "display_data"
    },
    {
     "data": {
      "image/png": "[encoded data removed]",
      "text/latex": [
       "$\\displaystyle 3 y^{2} + 12 y$"
      ],
      "text/plain": [
       "   2       \n",
       "3⋅y  + 12⋅y"
      ]
     },
     "metadata": {},
     "output_type": "display_data"
    }
   ],
   "source": [
    "p1 = x**2 + 4*x + 3\n",
    "p2 = 2*y**2 - 1\n",
    "p3 = 3*y**2 + 12*y\n",
    "\n",
    "display(p1)\n",
    "display(p2)\n",
    "display(p3)"
   ]
  },
  {
   "cell_type": "code",
   "execution_count": 72,
   "id": "bf3295e2-bc71-4da3-9c46-a8dbb8f96297",
   "metadata": {
    "execution": {
     "iopub.execute_input": "2024-11-12T07:36:40.668775Z",
     "iopub.status.busy": "2024-11-12T07:36:40.668695Z",
     "iopub.status.idle": "2024-11-12T07:36:40.681212Z",
     "shell.execute_reply": "2024-11-12T07:36:40.681011Z",
     "shell.execute_reply.started": "2024-11-12T07:36:40.668766Z"
    },
    "tags": []
   },
   "outputs": [
    {
     "data": {
      "image/png": "[encoded data removed]",
      "text/latex": [
       "$\\displaystyle \\left[ x^{2} + 4 x + 3, \\  2 y^{2} - 1, \\  3 y^{2} + 12 y\\right]$"
      ],
      "text/plain": [
       "⎡ 2               2         2       ⎤\n",
       "⎣x  + 4⋅x + 3, 2⋅y  - 1, 3⋅y  + 12⋅y⎦"
      ]
     },
     "execution_count": 72,
     "metadata": {},
     "output_type": "execute_result"
    }
   ],
   "source": [
    "p_list = [p1, p2, p3]\n",
    "\n",
    "p_list"
   ]
  },
  {
   "cell_type": "code",
   "execution_count": 73,
   "id": "774ce0bf-f881-4432-b71d-f15d0468d503",
   "metadata": {
    "execution": {
     "iopub.execute_input": "2024-11-12T07:36:40.681594Z",
     "iopub.status.busy": "2024-11-12T07:36:40.681512Z",
     "iopub.status.idle": "2024-11-12T07:36:40.686746Z",
     "shell.execute_reply": "2024-11-12T07:36:40.686561Z",
     "shell.execute_reply.started": "2024-11-12T07:36:40.681586Z"
    },
    "tags": []
   },
   "outputs": [
    {
     "data": {
      "text/latex": [
       "$\\displaystyle x^{2} + 4 x + 3 \\quad \\Rightarrow \\quad \\left(x + 1\\right) \\left(x + 3\\right)$"
      ],
      "text/plain": [
       "<IPython.core.display.Math object>"
      ]
     },
     "metadata": {},
     "output_type": "display_data"
    },
    {
     "data": {
      "text/latex": [
       "$\\displaystyle 2 y^{2} - 1 \\quad \\Rightarrow \\quad \\text{not factorable!}$"
      ],
      "text/plain": [
       "<IPython.core.display.Math object>"
      ]
     },
     "metadata": {},
     "output_type": "display_data"
    },
    {
     "data": {
      "text/latex": [
       "$\\displaystyle 3 y^{2} + 12 y \\quad \\Rightarrow \\quad 3 y \\left(y + 4\\right)$"
      ],
      "text/plain": [
       "<IPython.core.display.Math object>"
      ]
     },
     "metadata": {},
     "output_type": "display_data"
    }
   ],
   "source": [
    "for p in p_list:\n",
    "    temp_ans = sp.factor(p)\n",
    "    if temp_ans != p:\n",
    "        display(Math('%s \\\\quad \\\\Rightarrow \\\\quad %s' %(sp.latex(p), sp.latex(temp_ans))))\n",
    "    else:\n",
    "        display(Math('%s \\\\quad \\\\Rightarrow \\\\quad \\\\text{not factorable!}' %sp.latex(p)))"
   ]
  }
 ],
 "metadata": {
  "kernelspec": {
   "display_name": "Python 3 (ipykernel)",
   "language": "python",
   "name": "python3"
  },
  "language_info": {
   "codemirror_mode": {
    "name": "ipython",
    "version": 3
   },
   "file_extension": ".py",
   "mimetype": "text/x-python",
   "name": "python",
   "nbconvert_exporter": "python",
   "pygments_lexer": "ipython3",
   "version": "3.10.15"
  }
 },
 "nbformat": 4,
 "nbformat_minor": 5
}
